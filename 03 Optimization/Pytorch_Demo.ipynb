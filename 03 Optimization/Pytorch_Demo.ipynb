{
  "nbformat": 4,
  "nbformat_minor": 0,
  "metadata": {
    "colab": {
      "name": "Pytorch Demo",
      "provenance": [],
      "collapsed_sections": [
        "KpeikKPhHovI",
        "tLZT1tnMnt3D"
      ],
      "toc_visible": true
    },
    "kernelspec": {
      "name": "python3",
      "display_name": "Python 3"
    },
    "accelerator": "GPU"
  },
  "cells": [
    {
      "cell_type": "markdown",
      "metadata": {
        "id": "cymoQ0FBxjhO",
        "colab_type": "text"
      },
      "source": [
        "Hands-on tutorial with deep learning frameworks\n",
        "\n",
        "References \n",
        "\n",
        "https://pytorch.org/tutorials/beginner/deep_learning_60min_blitz.html\n",
        "\n",
        "https://ljvmiranda921.github.io/notebook/2017/08/13/softmax-and-the-negative-log-likelihood/"
      ]
    },
    {
      "cell_type": "markdown",
      "metadata": {
        "id": "dcSAYJZPY5hS",
        "colab_type": "text"
      },
      "source": [
        "# Recap "
      ]
    },
    {
      "cell_type": "markdown",
      "metadata": {
        "id": "q7YuorPqeknZ",
        "colab_type": "text"
      },
      "source": [
        "##Neural Networks\n",
        "\n",
        "Summary: A Neural Network is a function that takes an input of **features** and ouputs a **prediction**. The input goes through a series of **linear transformations** (affine function or weighted sum), followed by **activation functions**, until we get the output. We measure the **error** in its prediction through the **cost function** (aka. **loss**). We use this loss to **backpropagate** the **gradient** to update the **weights** by a small **learning rate**. We repeat this process until the model converges."
      ]
    },
    {
      "cell_type": "markdown",
      "metadata": {
        "id": "GQ-JbUroj_Z4",
        "colab_type": "text"
      },
      "source": [
        "### Reference Equations\n",
        "Not to use in the actual programming of a neural network. For intuition purposes. \n",
        "\n",
        "Forward propagation:\n",
        "$$\\text{repeat for each layer } l:$$\n",
        "$$z^{[l]} = W^{[l]} a^{[l-1]} + b^{[l]} $$\n",
        "$$a^{[l]} = g^{[l]}(z^{[l]})$$\n",
        "\n",
        "Compute the cost function:\n",
        "$$J(\\theta)$$\n",
        "\n",
        "Update weights of the network:\n",
        "$$\\theta =: \\theta - \\alpha \\nabla J(\\theta)$$"
      ]
    },
    {
      "cell_type": "markdown",
      "metadata": {
        "id": "Tj0wHTXygscg",
        "colab_type": "text"
      },
      "source": [
        "\n",
        "\n",
        "---\n",
        "\n",
        "### Classification\n",
        "\n",
        "\n",
        "If we were to predict the probability of a particular input pertaining to a certain class, we design the network so that it outputs a class probability score. This can be achieved with a **sigmoid** activation function. We often use a sigmoid activation for **binary classification**. \n",
        "\n",
        "$$S(x) = \\frac{1}{1 + e^{-x}} = \\frac{e^x}{e^x + 1}$$\n",
        "\n",
        "But if we want to have multiple classes, then we use a **softmax** activation to ouput probabilities for each class. The output probabilities for each class sum to 1. The denominator acts as a normalizing term, as it sums up all the exponentials.\n",
        "\n",
        "$$\\sigma(z)_i = \\frac{e^z_i}{\\sum_{j=1}^{K} e^z_j} $$\n",
        "\n",
        "$$\\text{for} \\space i = 1,\\dots, K \\space \\text{and} \\space \\mathbf{z} = (z_1, \\dots, z_K) $$"
      ]
    },
    {
      "cell_type": "markdown",
      "metadata": {
        "id": "-oG0dF2Reok1",
        "colab_type": "text"
      },
      "source": [
        "##Deep Learning\n",
        "\n",
        "A **layer** is an abstract generalization of a transformation function, $f^{[l]}(a^{[l-1]})$, on the previous activations.\n",
        "The key takeaway for the difference between a regular neural network and **deep neural network**, is that it has **more layers**. By abstracting the layer term when designing a model, we define the common types of layer in our code quickly. One example is the linear, or **fully connected** layer that we say before. In addition, we often apply common **tricks** to get a deep neural network to train effectively. \n",
        "\n",
        "Some things to consider when designing and training a deep model.\n",
        "\n",
        "1.   How much data you have (labeled/unlabeled, classes/scores)\n",
        "2.   How many layers / what type of layers (Fully connected layer)\n",
        "3.   Activation functions (ReLU, sigmoid, softmax, tanh)\n",
        "4.   Loss function (Mean Squared Error, logistic loss, cross entropy loss)\n",
        "5.   Hyperparameters (learning rate, batch size)\n",
        "7.   Optimization strategies (later)\n",
        "8.   Regulization strategies (later)\n",
        "\n"
      ]
    },
    {
      "cell_type": "markdown",
      "metadata": {
        "id": "zpbURYHGCY6T",
        "colab_type": "text"
      },
      "source": [
        "##IMPORTANT: Before running make sure the runtime is set to GPU\n",
        "\n",
        "On the top left, goto `Runtime` -> `Change runtime type`\n",
        "\n",
        "Under `Hardware accelerator`, choose GPU"
      ]
    },
    {
      "cell_type": "markdown",
      "metadata": {
        "id": "HkCN0iGCmlet",
        "colab_type": "text"
      },
      "source": [
        "# Pytorch Tensors\n",
        "\n",
        "A `Tensor` is a multidimentional matrix. \n",
        "\n",
        "So a matrix is a 2 dimensional `Tensor` (rows and columns). \n",
        "\n",
        "![alt text](https://www.kdnuggets.com/wp-content/uploads/scalar-vector-matrix-tensor.jpg)\n",
        "\n"
      ]
    },
    {
      "cell_type": "markdown",
      "metadata": {
        "id": "AVRKhKOYEgid",
        "colab_type": "text"
      },
      "source": [
        "Imports"
      ]
    },
    {
      "cell_type": "code",
      "metadata": {
        "id": "E0yT3rscmSlk",
        "colab_type": "code",
        "colab": {}
      },
      "source": [
        "import torch # the main pytorch package\n",
        "import torchvision # pytorch for computer vision\n",
        "\n",
        "import numpy as np # numpy package\n",
        "\n",
        "import time # used for testing speed"
      ],
      "execution_count": 0,
      "outputs": []
    },
    {
      "cell_type": "markdown",
      "metadata": {
        "id": "xC0GBGmiw-QT",
        "colab_type": "text"
      },
      "source": [
        "## Creating tensors\n",
        "\n"
      ]
    },
    {
      "cell_type": "code",
      "metadata": {
        "id": "DV0kGdVACVxp",
        "colab_type": "code",
        "outputId": "b12c99c6-3270-483a-fabb-5c2b91b2b735",
        "colab": {
          "base_uri": "https://localhost:8080/",
          "height": 35
        }
      },
      "source": [
        "torch.tensor(1)"
      ],
      "execution_count": 0,
      "outputs": [
        {
          "output_type": "execute_result",
          "data": {
            "text/plain": [
              "tensor(1)"
            ]
          },
          "metadata": {
            "tags": []
          },
          "execution_count": 2
        }
      ]
    },
    {
      "cell_type": "code",
      "metadata": {
        "id": "Jxp2AtTUIIOg",
        "colab_type": "code",
        "outputId": "501e5bbd-f81c-4d9c-bd6d-d798b03efc29",
        "colab": {
          "base_uri": "https://localhost:8080/",
          "height": 35
        }
      },
      "source": [
        "torch.tensor([1,2])"
      ],
      "execution_count": 0,
      "outputs": [
        {
          "output_type": "execute_result",
          "data": {
            "text/plain": [
              "tensor([1, 2])"
            ]
          },
          "metadata": {
            "tags": []
          },
          "execution_count": 3
        }
      ]
    },
    {
      "cell_type": "code",
      "metadata": {
        "id": "jpIPXBWTIKbG",
        "colab_type": "code",
        "outputId": "87c11794-bf46-402c-f795-a33d0f16270c",
        "colab": {
          "base_uri": "https://localhost:8080/",
          "height": 52
        }
      },
      "source": [
        "torch.tensor([[1,2],[3,4]])"
      ],
      "execution_count": 0,
      "outputs": [
        {
          "output_type": "execute_result",
          "data": {
            "text/plain": [
              "tensor([[1, 2],\n",
              "        [3, 4]])"
            ]
          },
          "metadata": {
            "tags": []
          },
          "execution_count": 4
        }
      ]
    },
    {
      "cell_type": "code",
      "metadata": {
        "id": "Ab4P9nxUIOVy",
        "colab_type": "code",
        "outputId": "ae1f5fa2-90f0-40a5-d459-040dfaf8a99e",
        "colab": {
          "base_uri": "https://localhost:8080/",
          "height": 104
        }
      },
      "source": [
        "torch.tensor([[[1,2], [3, 2]], [[1, 7], [5, 4]]])"
      ],
      "execution_count": 0,
      "outputs": [
        {
          "output_type": "execute_result",
          "data": {
            "text/plain": [
              "tensor([[[1, 2],\n",
              "         [3, 2]],\n",
              "\n",
              "        [[1, 7],\n",
              "         [5, 4]]])"
            ]
          },
          "metadata": {
            "tags": []
          },
          "execution_count": 5
        }
      ]
    },
    {
      "cell_type": "markdown",
      "metadata": {
        "id": "KpeikKPhHovI",
        "colab_type": "text"
      },
      "source": [
        "### Numpy Likeness\n",
        "\n",
        "Numpy is library for matrix math. It is common among data scientists.\n",
        "\n",
        "Pytorch builds its functions and array accesses similar to numpy."
      ]
    },
    {
      "cell_type": "markdown",
      "metadata": {
        "id": "zfnNE2Zzo2zm",
        "colab_type": "text"
      },
      "source": [
        "numpy array"
      ]
    },
    {
      "cell_type": "code",
      "metadata": {
        "id": "XIMsbrZfmX8p",
        "colab_type": "code",
        "outputId": "f374b3d5-a1d2-441f-8c1c-bcd01c58a398",
        "colab": {
          "base_uri": "https://localhost:8080/",
          "height": 69
        }
      },
      "source": [
        "xn = np.random.randn(3,4)\n",
        "xn"
      ],
      "execution_count": 0,
      "outputs": [
        {
          "output_type": "execute_result",
          "data": {
            "text/plain": [
              "array([[ 1.22787628, -0.07066772,  1.67570249,  0.05555446],\n",
              "       [-0.07611304,  0.89505619,  0.09800224,  0.80853567],\n",
              "       [-0.83608517, -0.35758708,  0.31818291,  2.15004324]])"
            ]
          },
          "metadata": {
            "tags": []
          },
          "execution_count": 6
        }
      ]
    },
    {
      "cell_type": "markdown",
      "metadata": {
        "id": "O4tuhfHFo4IR",
        "colab_type": "text"
      },
      "source": [
        "pytorch tensor"
      ]
    },
    {
      "cell_type": "code",
      "metadata": {
        "id": "vK2toebUm66G",
        "colab_type": "code",
        "outputId": "57d56152-49aa-4ba1-be4e-f195a39ef802",
        "colab": {
          "base_uri": "https://localhost:8080/",
          "height": 69
        }
      },
      "source": [
        "xt = torch.randn(3,4)\n",
        "xt"
      ],
      "execution_count": 0,
      "outputs": [
        {
          "output_type": "execute_result",
          "data": {
            "text/plain": [
              "tensor([[ 0.5904,  0.2871,  0.6418, -0.1909],\n",
              "        [-0.5642,  0.1597, -1.7733, -0.9664],\n",
              "        [-0.0843,  0.9270, -1.9899,  0.8685]])"
            ]
          },
          "metadata": {
            "tags": []
          },
          "execution_count": 7
        }
      ]
    },
    {
      "cell_type": "markdown",
      "metadata": {
        "id": "SyQSeqYcotdk",
        "colab_type": "text"
      },
      "source": [
        "tensor to numpy"
      ]
    },
    {
      "cell_type": "code",
      "metadata": {
        "id": "6lUhoholm_z1",
        "colab_type": "code",
        "outputId": "855b6170-4ba7-4762-b7e4-1c6545ba0657",
        "colab": {
          "base_uri": "https://localhost:8080/",
          "height": 87
        }
      },
      "source": [
        "xt.numpy()"
      ],
      "execution_count": 0,
      "outputs": [
        {
          "output_type": "execute_result",
          "data": {
            "text/plain": [
              "array([[ 0.5903583 ,  0.28708312,  0.64181674, -0.19094156],\n",
              "       [-0.56420535,  0.1596745 , -1.7733214 , -0.9663939 ],\n",
              "       [-0.084341  ,  0.9270021 , -1.9899423 ,  0.8684583 ]],\n",
              "      dtype=float32)"
            ]
          },
          "metadata": {
            "tags": []
          },
          "execution_count": 8
        }
      ]
    },
    {
      "cell_type": "markdown",
      "metadata": {
        "id": "obajYXLlowTx",
        "colab_type": "text"
      },
      "source": [
        "numpy to tensor"
      ]
    },
    {
      "cell_type": "code",
      "metadata": {
        "id": "7Vs0cZM1ohxO",
        "colab_type": "code",
        "outputId": "76119a47-35f7-4a49-9670-988c4365b270",
        "colab": {
          "base_uri": "https://localhost:8080/",
          "height": 69
        }
      },
      "source": [
        "torch.as_tensor(xn)"
      ],
      "execution_count": 0,
      "outputs": [
        {
          "output_type": "execute_result",
          "data": {
            "text/plain": [
              "tensor([[ 1.2279, -0.0707,  1.6757,  0.0556],\n",
              "        [-0.0761,  0.8951,  0.0980,  0.8085],\n",
              "        [-0.8361, -0.3576,  0.3182,  2.1500]], dtype=torch.float64)"
            ]
          },
          "metadata": {
            "tags": []
          },
          "execution_count": 9
        }
      ]
    },
    {
      "cell_type": "markdown",
      "metadata": {
        "id": "drkCzr_zodMo",
        "colab_type": "text"
      },
      "source": [
        "indexing is the same"
      ]
    },
    {
      "cell_type": "code",
      "metadata": {
        "id": "4sq3iuqqn_M2",
        "colab_type": "code",
        "outputId": "44568e6e-a1c0-4a52-b1d1-1ba6f2fa48d1",
        "colab": {
          "base_uri": "https://localhost:8080/",
          "height": 69
        }
      },
      "source": [
        "# get fourth column\n",
        "print(xn[:,3])\n",
        "\n",
        "print(xt[:,3])\n",
        "print(xt.numpy()[:,3])"
      ],
      "execution_count": 0,
      "outputs": [
        {
          "output_type": "stream",
          "text": [
            "[0.05555446 0.80853567 2.15004324]\n",
            "tensor([-0.1909, -0.9664,  0.8685])\n",
            "[-0.19094156 -0.9663939   0.8684583 ]\n"
          ],
          "name": "stdout"
        }
      ]
    },
    {
      "cell_type": "markdown",
      "metadata": {
        "id": "tLZT1tnMnt3D",
        "colab_type": "text"
      },
      "source": [
        "## Cuda Tensors\n",
        "Allow faster operations on the GPU (select GPU runtime in colab)"
      ]
    },
    {
      "cell_type": "code",
      "metadata": {
        "id": "8YLQBLODnRD6",
        "colab_type": "code",
        "colab": {}
      },
      "source": [
        "def stop_watch(function):\n",
        "    start = time.clock()\n",
        "    function()\n",
        "    duration = time.clock() - start\n",
        "    print('took', duration, 'seconds')"
      ],
      "execution_count": 0,
      "outputs": []
    },
    {
      "cell_type": "code",
      "metadata": {
        "id": "QXHIezuKq33X",
        "colab_type": "code",
        "outputId": "2876f56e-2d86-4766-c8a8-b65984dbc1be",
        "colab": {
          "base_uri": "https://localhost:8080/",
          "height": 52
        }
      },
      "source": [
        "#cpu\n",
        "t1 = torch.randn(2000,1000)\n",
        "t2 = torch.randn(1000,3000)\n",
        "\n",
        "def multiply():\n",
        "    # @ is shorthand for matrix multiply\n",
        "    t3 = t1 @ t2\n",
        "    \n",
        "stop_watch(multiply)\n",
        "    \n",
        "    \n",
        "# cuda\n",
        "# put the tensors on the GPU\n",
        "t1 = t1.cuda()\n",
        "t2 = t2.cuda()\n",
        "\n",
        "def cuda_multiply():\n",
        "    t3 = t1 @ t2\n",
        "\n",
        "stop_watch(cuda_multiply)"
      ],
      "execution_count": 0,
      "outputs": [
        {
          "output_type": "stream",
          "text": [
            "took 0.11701600000000001 seconds\n",
            "took 0.0012389999999999901 seconds\n"
          ],
          "name": "stdout"
        }
      ]
    },
    {
      "cell_type": "markdown",
      "metadata": {
        "id": "YSvJSuq6tIVU",
        "colab_type": "text"
      },
      "source": [
        "#Autograd: Automatic Differentiation"
      ]
    },
    {
      "cell_type": "code",
      "metadata": {
        "id": "xJNFgEMlrqA1",
        "colab_type": "code",
        "colab": {}
      },
      "source": [
        "# create x\n",
        "x = torch.as_tensor(3.)\n",
        "# make x require a gradient\n",
        "x.requires_grad = True"
      ],
      "execution_count": 0,
      "outputs": []
    },
    {
      "cell_type": "code",
      "metadata": {
        "id": "wmfM2XfEtjqQ",
        "colab_type": "code",
        "outputId": "124631dd-d43d-4c08-8ec7-7863ffc0c468",
        "colab": {
          "base_uri": "https://localhost:8080/",
          "height": 35
        }
      },
      "source": [
        "# create the equation for y\n",
        "y = 2*x + 1\n",
        "y"
      ],
      "execution_count": 0,
      "outputs": [
        {
          "output_type": "execute_result",
          "data": {
            "text/plain": [
              "tensor(7., grad_fn=<AddBackward0>)"
            ]
          },
          "metadata": {
            "tags": []
          },
          "execution_count": 14
        }
      ]
    },
    {
      "cell_type": "markdown",
      "metadata": {
        "id": "1-7AkxAvt8CF",
        "colab_type": "text"
      },
      "source": [
        "Calculate $\\frac{dy}{dx}$\n",
        "\n",
        "More generally, calculates $dy$ with respect to all variables that have `requires_grad = True` with `.backward()`"
      ]
    },
    {
      "cell_type": "code",
      "metadata": {
        "id": "C011u9xktrfk",
        "colab_type": "code",
        "colab": {}
      },
      "source": [
        "# compute the derivatives\n",
        "y.backward()"
      ],
      "execution_count": 0,
      "outputs": []
    },
    {
      "cell_type": "code",
      "metadata": {
        "id": "r270T0kktzk5",
        "colab_type": "code",
        "outputId": "8efb773d-04f6-4886-ee61-8adc61c0f65b",
        "colab": {
          "base_uri": "https://localhost:8080/",
          "height": 35
        }
      },
      "source": [
        "# show the gradient for x\n",
        "x.grad"
      ],
      "execution_count": 0,
      "outputs": [
        {
          "output_type": "execute_result",
          "data": {
            "text/plain": [
              "tensor(2.)"
            ]
          },
          "metadata": {
            "tags": []
          },
          "execution_count": 16
        }
      ]
    },
    {
      "cell_type": "markdown",
      "metadata": {
        "id": "NQWF_6AKUcSQ",
        "colab_type": "text"
      },
      "source": [
        "### Example\n",
        "![alt text](https://i.imgur.com/zjAboLu.png)"
      ]
    },
    {
      "cell_type": "code",
      "metadata": {
        "id": "7RaX24GGVbps",
        "colab_type": "code",
        "colab": {}
      },
      "source": [
        "# write your solution here\n",
        "\n",
        "# define your variables with values\n",
        "\n",
        "# make x require a gradient\n",
        "\n",
        "# create the computation graph for f\n",
        "\n",
        "# calculate the gradient backward\n",
        "\n",
        "# print the gradient for x\n"
      ],
      "execution_count": 0,
      "outputs": []
    },
    {
      "cell_type": "markdown",
      "metadata": {
        "id": "vj57no16VZPV",
        "colab_type": "text"
      },
      "source": [
        "### Solution"
      ]
    },
    {
      "cell_type": "code",
      "metadata": {
        "id": "U-2dlcBCUrNB",
        "colab_type": "code",
        "outputId": "41c04a78-9327-4454-8040-58d80884139e",
        "colab": {
          "base_uri": "https://localhost:8080/",
          "height": 35
        }
      },
      "source": [
        "# possible solution\n",
        "x = torch.tensor(-2., requires_grad=True)\n",
        "y = torch.tensor(5)\n",
        "z = torch.tensor(-4)\n",
        "\n",
        "q = x + y\n",
        "f = q * z\n",
        "f.backward()\n",
        "print(x.grad)"
      ],
      "execution_count": 0,
      "outputs": [
        {
          "output_type": "stream",
          "text": [
            "tensor(-4.)\n"
          ],
          "name": "stdout"
        }
      ]
    },
    {
      "cell_type": "markdown",
      "metadata": {
        "id": "gL3xdEIuwESB",
        "colab_type": "text"
      },
      "source": [
        "### Autograd works the same for tensors"
      ]
    },
    {
      "cell_type": "code",
      "metadata": {
        "id": "TEoLiH2Ut1m0",
        "colab_type": "code",
        "outputId": "b80d2436-8e53-44e0-9542-73c194633ffc",
        "colab": {
          "base_uri": "https://localhost:8080/",
          "height": 52
        }
      },
      "source": [
        "x = torch.as_tensor([1.,2.,3.])\n",
        "print(x.requires_grad)\n",
        "\n",
        "w = torch.as_tensor([2.,3.,1.])\n",
        "w.requires_grad = True\n",
        "\n",
        "b = -2.\n",
        "\n",
        "# dot product plus bias\n",
        "y = w @ x + b\n",
        "y"
      ],
      "execution_count": 0,
      "outputs": [
        {
          "output_type": "stream",
          "text": [
            "False\n"
          ],
          "name": "stdout"
        },
        {
          "output_type": "execute_result",
          "data": {
            "text/plain": [
              "tensor(9., grad_fn=<AddBackward0>)"
            ]
          },
          "metadata": {
            "tags": []
          },
          "execution_count": 18
        }
      ]
    },
    {
      "cell_type": "code",
      "metadata": {
        "id": "_5pqEC7bvhT0",
        "colab_type": "code",
        "outputId": "d61bd967-8ae0-498e-e2ef-6b65fd1c6926",
        "colab": {
          "base_uri": "https://localhost:8080/",
          "height": 35
        }
      },
      "source": [
        "loss = y - 5\n",
        "print(loss)\n",
        "loss.backward()"
      ],
      "execution_count": 0,
      "outputs": [
        {
          "output_type": "stream",
          "text": [
            "tensor(4., grad_fn=<SubBackward0>)\n"
          ],
          "name": "stdout"
        }
      ]
    },
    {
      "cell_type": "code",
      "metadata": {
        "id": "6SoJTColv5cm",
        "colab_type": "code",
        "outputId": "a7a849cd-a330-47ed-c779-f1ab50a625ae",
        "colab": {
          "base_uri": "https://localhost:8080/",
          "height": 35
        }
      },
      "source": [
        "w.grad"
      ],
      "execution_count": 0,
      "outputs": [
        {
          "output_type": "execute_result",
          "data": {
            "text/plain": [
              "tensor([1., 2., 3.])"
            ]
          },
          "metadata": {
            "tags": []
          },
          "execution_count": 20
        }
      ]
    },
    {
      "cell_type": "code",
      "metadata": {
        "id": "dmetFkA0vzaf",
        "colab_type": "code",
        "outputId": "44604f96-462f-4064-8c8d-b5fae65f9a8c",
        "colab": {
          "base_uri": "https://localhost:8080/",
          "height": 52
        }
      },
      "source": [
        "print(w)\n",
        "# update weights\n",
        "w = w - 0.1 * w.grad\n",
        "print(w)"
      ],
      "execution_count": 0,
      "outputs": [
        {
          "output_type": "stream",
          "text": [
            "tensor([2., 3., 1.], requires_grad=True)\n",
            "tensor([1.9000, 2.8000, 0.7000], grad_fn=<SubBackward0>)\n"
          ],
          "name": "stdout"
        }
      ]
    },
    {
      "cell_type": "markdown",
      "metadata": {
        "id": "10BtEgIBwn2X",
        "colab_type": "text"
      },
      "source": [
        "the loss now decreased"
      ]
    },
    {
      "cell_type": "code",
      "metadata": {
        "id": "m1DExKrVwaMk",
        "colab_type": "code",
        "outputId": "925d571f-acff-4e93-d297-36971a23ac35",
        "colab": {
          "base_uri": "https://localhost:8080/",
          "height": 35
        }
      },
      "source": [
        "y = w @ x + b\n",
        "loss = y - 5\n",
        "loss"
      ],
      "execution_count": 0,
      "outputs": [
        {
          "output_type": "execute_result",
          "data": {
            "text/plain": [
              "tensor(2.6000, grad_fn=<SubBackward0>)"
            ]
          },
          "metadata": {
            "tags": []
          },
          "execution_count": 22
        }
      ]
    },
    {
      "cell_type": "markdown",
      "metadata": {
        "id": "pME9BbU_w2ot",
        "colab_type": "text"
      },
      "source": [
        "# Neural Networks"
      ]
    },
    {
      "cell_type": "markdown",
      "metadata": {
        "id": "iDbzKskN0Xra",
        "colab_type": "text"
      },
      "source": [
        "## MNIST dataset"
      ]
    },
    {
      "cell_type": "markdown",
      "metadata": {
        "id": "DRAwX5pRE69w",
        "colab_type": "text"
      },
      "source": [
        "MNIST is a dataset of black and white handwritten digits with labels 0 through 9.\n",
        "The image is 28 by 28 in size."
      ]
    },
    {
      "cell_type": "code",
      "metadata": {
        "id": "eYonrJzvy5pG",
        "colab_type": "code",
        "outputId": "1bb613cd-d541-40d2-dd46-aa4dacde41d3",
        "colab": {
          "base_uri": "https://localhost:8080/",
          "height": 1000
        }
      },
      "source": [
        "dataset = torchvision.datasets.MNIST('/content', download=True)\n",
        "\n",
        "dataset"
      ],
      "execution_count": 0,
      "outputs": [
        {
          "output_type": "stream",
          "text": [
            "\r0it [00:00, ?it/s]"
          ],
          "name": "stderr"
        },
        {
          "output_type": "stream",
          "text": [
            "Downloading http://yann.lecun.com/exdb/mnist/train-images-idx3-ubyte.gz to /content/MNIST/raw/train-images-idx3-ubyte.gz\n"
          ],
          "name": "stdout"
        },
        {
          "output_type": "stream",
          "text": [
            "100%|█████████▉| 9887744/9912422 [01:00<00:00, 310676.90it/s]"
          ],
          "name": "stderr"
        },
        {
          "output_type": "stream",
          "text": [
            "Extracting /content/MNIST/raw/train-images-idx3-ubyte.gz\n"
          ],
          "name": "stdout"
        },
        {
          "output_type": "stream",
          "text": [
            "\n",
            "0it [00:00, ?it/s]\u001b[A\n",
            "  0%|          | 0/28881 [00:00<?, ?it/s]\u001b[A"
          ],
          "name": "stderr"
        },
        {
          "output_type": "stream",
          "text": [
            "Downloading http://yann.lecun.com/exdb/mnist/train-labels-idx1-ubyte.gz to /content/MNIST/raw/train-labels-idx1-ubyte.gz\n"
          ],
          "name": "stdout"
        },
        {
          "output_type": "stream",
          "text": [
            "\n",
            "32768it [00:00, 129212.63it/s]           \u001b[A\n",
            "0it [00:00, ?it/s]\u001b[A\n",
            "  0%|          | 0/1648877 [00:00<?, ?it/s]\u001b[A"
          ],
          "name": "stderr"
        },
        {
          "output_type": "stream",
          "text": [
            "Extracting /content/MNIST/raw/train-labels-idx1-ubyte.gz\n",
            "Downloading http://yann.lecun.com/exdb/mnist/t10k-images-idx3-ubyte.gz to /content/MNIST/raw/t10k-images-idx3-ubyte.gz\n"
          ],
          "name": "stdout"
        },
        {
          "output_type": "stream",
          "text": [
            "\n",
            "  2%|▏         | 40960/1648877 [00:00<00:06, 238556.94it/s]\u001b[A\n",
            "  5%|▌         | 90112/1648877 [00:00<00:06, 255682.84it/s]\u001b[A\n",
            "  9%|▉         | 147456/1648877 [00:00<00:05, 250511.09it/s]\u001b[A\n",
            " 12%|█▏        | 204800/1648877 [00:00<00:05, 275471.35it/s]\u001b[A\n",
            " 14%|█▍        | 229376/1648877 [00:01<00:06, 222763.82it/s]\u001b[A\n",
            " 17%|█▋        | 278528/1648877 [00:01<00:05, 242814.83it/s]\u001b[A\n",
            " 18%|█▊        | 303104/1648877 [00:01<00:06, 208612.36it/s]\u001b[A\n",
            " 21%|██        | 344064/1648877 [00:01<00:05, 220438.82it/s]\u001b[A\n",
            " 23%|██▎       | 376832/1648877 [00:01<00:05, 217137.13it/s]\u001b[A\n",
            " 25%|██▍       | 409600/1648877 [00:01<00:05, 213860.02it/s]\u001b[A\n",
            " 27%|██▋       | 450560/1648877 [00:02<00:05, 225312.08it/s]\u001b[A\n",
            " 29%|██▉       | 475136/1648877 [00:02<00:05, 198480.07it/s]\u001b[A\n",
            " 31%|███▏      | 516096/1648877 [00:02<00:05, 213251.88it/s]\u001b[A\n",
            " 33%|███▎      | 548864/1648877 [00:02<00:05, 211129.40it/s]\u001b[A\n",
            " 35%|███▌      | 581632/1648877 [00:02<00:04, 223698.78it/s]\u001b[A\n",
            " 37%|███▋      | 606208/1648877 [00:02<00:04, 222487.07it/s]\u001b[A\n",
            " 39%|███▉      | 647168/1648877 [00:02<00:04, 232134.21it/s]\u001b[A\n",
            " 41%|████      | 679936/1648877 [00:03<00:04, 239858.41it/s]\u001b[A\n",
            " 43%|████▎     | 704512/1648877 [00:03<00:04, 232889.81it/s]\u001b[A\n",
            " 45%|████▌     | 745472/1648877 [00:03<00:03, 255480.63it/s]\u001b[A\n",
            " 47%|████▋     | 778240/1648877 [00:03<00:03, 263828.19it/s]\u001b[A\n",
            " 50%|████▉     | 819200/1648877 [00:03<00:02, 279604.34it/s]\u001b[A\n",
            " 52%|█████▏    | 851968/1648877 [00:03<00:02, 283186.14it/s]\u001b[A\n",
            " 55%|█████▍    | 901120/1648877 [00:03<00:02, 307677.46it/s]\u001b[A\n",
            " 57%|█████▋    | 933888/1648877 [00:03<00:02, 304132.46it/s]\u001b[A\n",
            " 60%|█████▉    | 983040/1648877 [00:03<00:02, 327462.77it/s]\u001b[A\n",
            " 62%|██████▏   | 1024000/1648877 [00:04<00:01, 335183.24it/s]\u001b[A\n",
            " 65%|██████▌   | 1073152/1648877 [00:04<00:01, 352523.75it/s]\u001b[A\n",
            " 68%|██████▊   | 1114112/1648877 [00:04<00:01, 351011.49it/s]\u001b[A\n",
            " 71%|███████   | 1163264/1648877 [00:04<00:01, 366174.80it/s]\u001b[A\n",
            " 74%|███████▎  | 1212416/1648877 [00:04<00:01, 381856.65it/s]\u001b[A\n",
            " 77%|███████▋  | 1269760/1648877 [00:04<00:00, 403453.55it/s]\u001b[A\n",
            " 80%|███████▉  | 1318912/1648877 [00:04<00:00, 409631.47it/s]\u001b[A\n",
            " 83%|████████▎ | 1376256/1648877 [00:04<00:00, 424832.44it/s]\u001b[A\n",
            " 86%|████████▋ | 1425408/1648877 [00:05<00:00, 423490.41it/s]\u001b[A\n",
            " 90%|█████████ | 1490944/1648877 [00:05<00:00, 452394.81it/s]\u001b[A\n",
            " 94%|█████████▍| 1548288/1648877 [00:05<00:00, 462114.49it/s]\u001b[A\n",
            " 98%|█████████▊| 1613824/1648877 [00:05<00:00, 482601.02it/s]\u001b[A\n",
            "1654784it [00:05, 304104.76it/s]                             \u001b[A\n",
            "0it [00:00, ?it/s]\u001b[A"
          ],
          "name": "stderr"
        },
        {
          "output_type": "stream",
          "text": [
            "Extracting /content/MNIST/raw/t10k-images-idx3-ubyte.gz\n",
            "Downloading http://yann.lecun.com/exdb/mnist/t10k-labels-idx1-ubyte.gz to /content/MNIST/raw/t10k-labels-idx1-ubyte.gz\n"
          ],
          "name": "stdout"
        },
        {
          "output_type": "stream",
          "text": [
            "\n",
            "  0%|          | 0/4542 [00:00<?, ?it/s]\u001b[A\n",
            "8192it [00:00, 48913.93it/s]            \u001b[A"
          ],
          "name": "stderr"
        },
        {
          "output_type": "stream",
          "text": [
            "Extracting /content/MNIST/raw/t10k-labels-idx1-ubyte.gz\n",
            "Processing...\n",
            "Done!\n"
          ],
          "name": "stdout"
        },
        {
          "output_type": "execute_result",
          "data": {
            "text/plain": [
              "Dataset MNIST\n",
              "    Number of datapoints: 60000\n",
              "    Root location: /content\n",
              "    Split: Train"
            ]
          },
          "metadata": {
            "tags": []
          },
          "execution_count": 23
        }
      ]
    },
    {
      "cell_type": "code",
      "metadata": {
        "id": "lzUah2i3z4W8",
        "colab_type": "code",
        "outputId": "5e3d2d2d-67c0-4635-8e3e-c8e3bddc4104",
        "colab": {
          "base_uri": "https://localhost:8080/",
          "height": 287
        }
      },
      "source": [
        "import matplotlib.pyplot as plt\n",
        "plt.imshow(dataset.data[0].numpy())"
      ],
      "execution_count": 0,
      "outputs": [
        {
          "output_type": "execute_result",
          "data": {
            "text/plain": [
              "<matplotlib.image.AxesImage at 0x7f88d80bb978>"
            ]
          },
          "metadata": {
            "tags": []
          },
          "execution_count": 24
        },
        {
          "output_type": "display_data",
          "data": {
            "image/png": "[encoded data removed]",
            "text/plain": [
              "<Figure size 432x288 with 1 Axes>"
            ]
          },
          "metadata": {
            "tags": []
          }
        }
      ]
    },
    {
      "cell_type": "markdown",
      "metadata": {
        "id": "cWX9Vn-X0a-n",
        "colab_type": "text"
      },
      "source": [
        "##Building a Neural Network with Tensors"
      ]
    },
    {
      "cell_type": "markdown",
      "metadata": {
        "id": "awUIgzGuFOwf",
        "colab_type": "text"
      },
      "source": [
        "Shape of the training data"
      ]
    },
    {
      "cell_type": "code",
      "metadata": {
        "id": "Gk1rwHOVyyAr",
        "colab_type": "code",
        "outputId": "c35234b6-470b-487e-c28f-e8c0229ca774",
        "colab": {
          "base_uri": "https://localhost:8080/",
          "height": 35
        }
      },
      "source": [
        "dataset.data.shape"
      ],
      "execution_count": 0,
      "outputs": [
        {
          "output_type": "execute_result",
          "data": {
            "text/plain": [
              "torch.Size([60000, 28, 28])"
            ]
          },
          "metadata": {
            "tags": []
          },
          "execution_count": 25
        }
      ]
    },
    {
      "cell_type": "markdown",
      "metadata": {
        "id": "oFOomHSsFVIf",
        "colab_type": "text"
      },
      "source": [
        "Define our network.\n",
        "\n",
        "input 28x28 -> hidden layer 100 -> 10 label outputs\n",
        "\n",
        "$w_1 = (100, 784)$,\n",
        "$b_1 = (100,)$,\n",
        "$w_2 = (10, 100)$,\n",
        "$b_2 = (10, )$"
      ]
    },
    {
      "cell_type": "code",
      "metadata": {
        "id": "va_50I-QQbN2",
        "colab_type": "code",
        "colab": {}
      },
      "source": [
        "device = 'cuda'"
      ],
      "execution_count": 0,
      "outputs": []
    },
    {
      "cell_type": "code",
      "metadata": {
        "id": "_YnHocPo-Qht",
        "colab_type": "code",
        "outputId": "0513cfee-747a-42e1-c0bf-73df9f343246",
        "colab": {
          "base_uri": "https://localhost:8080/",
          "height": 52
        }
      },
      "source": [
        "input_size = 28 * 28 # = 784\n",
        "layer1_size = 100\n",
        "layer2_size = 10\n",
        "\n",
        "\n",
        "w1 = 0.01 * torch.randn(layer1_size, input_size).to(device)\n",
        "b1 = torch.zeros(layer1_size).to(device)\n",
        "w2 = 0.01 * torch.randn(layer2_size, layer1_size).to(device)\n",
        "b2 = torch.zeros(layer2_size).to(device)\n",
        "\n",
        "\n",
        "w1.requires_grad_()\n",
        "b1.requires_grad_()\n",
        "w2.requires_grad_()\n",
        "b2.requires_grad_()"
      ],
      "execution_count": 0,
      "outputs": [
        {
          "output_type": "execute_result",
          "data": {
            "text/plain": [
              "tensor([0., 0., 0., 0., 0., 0., 0., 0., 0., 0.], device='cuda:0',\n",
              "       requires_grad=True)"
            ]
          },
          "metadata": {
            "tags": []
          },
          "execution_count": 27
        }
      ]
    },
    {
      "cell_type": "markdown",
      "metadata": {
        "id": "zqcMuaQyGJ97",
        "colab_type": "text"
      },
      "source": [
        "https://ljvmiranda921.github.io/notebook/2017/08/13/softmax-and-the-negative-log-likelihood/\n",
        "\n",
        "softmax(x) = $\\frac{e^x}{\\sum e^x}$\n",
        "\n",
        "relu(x) = $max(x, 0)$\n",
        "\n",
        "\n",
        "model(x):\n",
        "\n",
        "$z_1 = w_1 x + b_1$\n",
        "\n",
        "$a_1 = relu(z_1)$\n",
        "\n",
        "$z_2 = w_2 a_1 + b_2$\n",
        "\n",
        "$a_2 = softmax(z_2)$"
      ]
    },
    {
      "cell_type": "code",
      "metadata": {
        "id": "AGg-uCg1PWyB",
        "colab_type": "code",
        "colab": {}
      },
      "source": [
        "import torch.nn.functional as F"
      ],
      "execution_count": 0,
      "outputs": []
    },
    {
      "cell_type": "code",
      "metadata": {
        "id": "ubDW-srMAI-k",
        "colab_type": "code",
        "colab": {}
      },
      "source": [
        "def softmax(x):\n",
        "    # output a vector of probabilities with its sum equal to 1.\n",
        "    return torch.exp(x) / torch.sum(torch.exp(x))\n",
        "\n",
        "def relu(x):\n",
        "    # take the element wise max with 0.\n",
        "    return F.relu(x)\n",
        "\n",
        "def model(x):\n",
        "    z1 = w1 @ x + b1\n",
        "    a1 = relu(z1)\n",
        "    z2 = w2 @ a1 + b2\n",
        "    a2 = softmax(z2)\n",
        "    return a2"
      ],
      "execution_count": 0,
      "outputs": []
    },
    {
      "cell_type": "code",
      "metadata": {
        "id": "ZXmLfKXS6SFR",
        "colab_type": "code",
        "colab": {}
      },
      "source": [
        "def cross_entropy(predictions, labels):\n",
        "    return F.cross_entropy(input=predictions.unsqueeze(0), target=labels.unsqueeze(0))"
      ],
      "execution_count": 0,
      "outputs": []
    },
    {
      "cell_type": "code",
      "metadata": {
        "id": "9G8YOMeSOfW2",
        "colab_type": "code",
        "colab": {}
      },
      "source": [
        "from tqdm import tqdm"
      ],
      "execution_count": 0,
      "outputs": []
    },
    {
      "cell_type": "code",
      "metadata": {
        "id": "qYUk6b-8RLcO",
        "colab_type": "code",
        "outputId": "354d51c6-6316-4f5e-a54d-ba2e2deea974",
        "colab": {
          "base_uri": "https://localhost:8080/",
          "height": 35
        }
      },
      "source": [
        "dataset.targets"
      ],
      "execution_count": 0,
      "outputs": [
        {
          "output_type": "execute_result",
          "data": {
            "text/plain": [
              "tensor([5, 0, 4,  ..., 5, 6, 8])"
            ]
          },
          "metadata": {
            "tags": []
          },
          "execution_count": 37
        }
      ]
    },
    {
      "cell_type": "code",
      "metadata": {
        "id": "PafEp05l_jnz",
        "colab_type": "code",
        "outputId": "b9be7769-26f5-48b8-ea4e-577e551341ad",
        "colab": {
          "base_uri": "https://localhost:8080/",
          "height": 1000
        }
      },
      "source": [
        "learning_rate = 0.001\n",
        "training_iterations = 1\n",
        "history = []\n",
        "X = dataset.data.to(device)\n",
        "Y = dataset.targets.to(device)\n",
        "\n",
        "m = X.size(0)\n",
        "for step in range(training_iterations):\n",
        "    epoch_loss = 0\n",
        "    count_correct = 0\n",
        "    for i in tqdm(range(m)):\n",
        "        x = X[i].float()\n",
        "        y = Y[i]\n",
        "        \n",
        "        predictions = model(x.view(-1))\n",
        "        loss = cross_entropy(predictions, y)\n",
        "        \n",
        "        epoch_loss += float(loss)\n",
        "        loss.backward()\n",
        "        with torch.no_grad():\n",
        "            w1 -= learning_rate * w1.grad\n",
        "            b1 -= learning_rate * b1.grad\n",
        "            w2 -= learning_rate * w2.grad\n",
        "            b2 -= learning_rate * b2.grad\n",
        "        \n",
        "    history.append(epoch_loss)"
      ],
      "execution_count": 0,
      "outputs": [
        {
          "output_type": "stream",
          "text": [
            "\n",
            "\n",
            "\n",
            "  0%|          | 0/60000 [00:00<?, ?it/s]\u001b[A\u001b[A\u001b[A\n",
            "\n",
            "\n",
            "  0%|          | 122/60000 [00:00<00:49, 1217.59it/s]\u001b[A\u001b[A\u001b[A\n",
            "\n",
            "\n",
            "  0%|          | 240/60000 [00:00<00:49, 1205.24it/s]\u001b[A\u001b[A\u001b[A\n",
            "\n",
            "\n",
            "  1%|          | 361/60000 [00:00<00:49, 1206.07it/s]\u001b[A\u001b[A\u001b[A\n",
            "\n",
            "\n",
            "  1%|          | 482/60000 [00:00<00:49, 1204.16it/s]\u001b[A\u001b[A\u001b[A\n",
            "\n",
            "\n",
            "  1%|          | 597/60000 [00:00<00:50, 1186.26it/s]\u001b[A\u001b[A\u001b[A\n",
            "\n",
            "\n",
            "  1%|          | 711/60000 [00:00<00:50, 1171.45it/s]\u001b[A\u001b[A\u001b[A\n",
            "\n",
            "\n",
            "  1%|▏         | 824/60000 [00:00<00:51, 1156.01it/s]\u001b[A\u001b[A\u001b[A\n",
            "\n",
            "\n",
            "  2%|▏         | 935/60000 [00:00<00:51, 1139.92it/s]\u001b[A\u001b[A\u001b[A\n",
            "\n",
            "\n",
            "  2%|▏         | 1045/60000 [00:00<00:52, 1127.01it/s]\u001b[A\u001b[A\u001b[A\n",
            "\n",
            "\n",
            "  2%|▏         | 1160/60000 [00:01<00:51, 1131.64it/s]\u001b[A\u001b[A\u001b[A\n",
            "\n",
            "\n",
            "  2%|▏         | 1274/60000 [00:01<00:51, 1132.39it/s]\u001b[A\u001b[A\u001b[A\n",
            "\n",
            "\n",
            "  2%|▏         | 1389/60000 [00:01<00:51, 1136.91it/s]\u001b[A\u001b[A\u001b[A\n",
            "\n",
            "\n",
            "  3%|▎         | 1502/60000 [00:01<00:51, 1132.94it/s]\u001b[A\u001b[A\u001b[A\n",
            "\n",
            "\n",
            "  3%|▎         | 1616/60000 [00:01<00:51, 1134.32it/s]\u001b[A\u001b[A\u001b[A\n",
            "\n",
            "\n",
            "  3%|▎         | 1730/60000 [00:01<00:51, 1135.86it/s]\u001b[A\u001b[A\u001b[A\n",
            "\n",
            "\n",
            "  3%|▎         | 1844/60000 [00:01<00:51, 1119.22it/s]\u001b[A\u001b[A\u001b[A\n",
            "\n",
            "\n",
            "  3%|▎         | 1956/60000 [00:01<00:52, 1110.38it/s]\u001b[A\u001b[A\u001b[A\n",
            "\n",
            "\n",
            "  3%|▎         | 2069/60000 [00:01<00:52, 1113.67it/s]\u001b[A\u001b[A\u001b[A\n",
            "\n",
            "\n",
            "  4%|▎         | 2185/60000 [00:01<00:51, 1126.32it/s]\u001b[A\u001b[A\u001b[A\n",
            "\n",
            "\n",
            "  4%|▍         | 2309/60000 [00:02<00:49, 1156.36it/s]\u001b[A\u001b[A\u001b[A\n",
            "\n",
            "\n",
            "  4%|▍         | 2426/60000 [00:02<00:49, 1158.81it/s]\u001b[A\u001b[A\u001b[A\n",
            "\n",
            "\n",
            "  4%|▍         | 2542/60000 [00:02<00:49, 1155.48it/s]\u001b[A\u001b[A\u001b[A\n",
            "\n",
            "\n",
            "  4%|▍         | 2658/60000 [00:02<00:50, 1125.76it/s]\u001b[A\u001b[A\u001b[A\n",
            "\n",
            "\n",
            "  5%|▍         | 2772/60000 [00:02<00:50, 1128.95it/s]\u001b[A\u001b[A\u001b[A\n",
            "\n",
            "\n",
            "  5%|▍         | 2886/60000 [00:02<00:51, 1101.45it/s]\u001b[A\u001b[A\u001b[A\n",
            "\n",
            "\n",
            "  5%|▍         | 2997/60000 [00:02<00:51, 1101.23it/s]\u001b[A\u001b[A\u001b[A\n",
            "\n",
            "\n",
            "  5%|▌         | 3108/60000 [00:02<00:51, 1094.59it/s]\u001b[A\u001b[A\u001b[A\n",
            "\n",
            "\n",
            "  5%|▌         | 3219/60000 [00:02<00:51, 1098.97it/s]\u001b[A\u001b[A\u001b[A\n",
            "\n",
            "\n",
            "  6%|▌         | 3332/60000 [00:02<00:51, 1106.47it/s]\u001b[A\u001b[A\u001b[A\n",
            "\n",
            "\n",
            "  6%|▌         | 3453/60000 [00:03<00:49, 1135.56it/s]\u001b[A\u001b[A\u001b[A\n",
            "\n",
            "\n",
            "  6%|▌         | 3567/60000 [00:03<00:49, 1132.08it/s]\u001b[A\u001b[A\u001b[A\n",
            "\n",
            "\n",
            "  6%|▌         | 3683/60000 [00:03<00:49, 1138.24it/s]\u001b[A\u001b[A\u001b[A\n",
            "\n",
            "\n",
            "  6%|▋         | 3811/60000 [00:03<00:47, 1175.44it/s]\u001b[A\u001b[A\u001b[A\n",
            "\n",
            "\n",
            "  7%|▋         | 3946/60000 [00:03<00:45, 1222.33it/s]\u001b[A\u001b[A\u001b[A\n",
            "\n",
            "\n",
            "  7%|▋         | 4069/60000 [00:03<00:46, 1200.30it/s]\u001b[A\u001b[A\u001b[A\n",
            "\n",
            "\n",
            "  7%|▋         | 4203/60000 [00:03<00:45, 1238.11it/s]\u001b[A\u001b[A\u001b[A\n",
            "\n",
            "\n",
            "  7%|▋         | 4328/60000 [00:03<00:45, 1211.58it/s]\u001b[A\u001b[A\u001b[A\n",
            "\n",
            "\n",
            "  7%|▋         | 4450/60000 [00:03<00:46, 1201.53it/s]\u001b[A\u001b[A\u001b[A\n",
            "\n",
            "\n",
            "  8%|▊         | 4576/60000 [00:03<00:45, 1218.19it/s]\u001b[A\u001b[A\u001b[A\n",
            "\n",
            "\n",
            "  8%|▊         | 4700/60000 [00:04<00:45, 1223.65it/s]\u001b[A\u001b[A\u001b[A\n",
            "\n",
            "\n",
            "  8%|▊         | 4829/60000 [00:04<00:44, 1242.18it/s]\u001b[A\u001b[A\u001b[A\n",
            "\n",
            "\n",
            "  8%|▊         | 4954/60000 [00:04<00:45, 1215.83it/s]\u001b[A\u001b[A\u001b[A\n",
            "\n",
            "\n",
            "  8%|▊         | 5076/60000 [00:04<00:46, 1192.83it/s]\u001b[A\u001b[A\u001b[A\n",
            "\n",
            "\n",
            "  9%|▊         | 5208/60000 [00:04<00:44, 1228.04it/s]\u001b[A\u001b[A\u001b[A\n",
            "\n",
            "\n",
            "  9%|▉         | 5342/60000 [00:04<00:43, 1259.39it/s]\u001b[A\u001b[A\u001b[A\n",
            "\n",
            "\n",
            "  9%|▉         | 5474/60000 [00:04<00:42, 1274.94it/s]\u001b[A\u001b[A\u001b[A\n",
            "\n",
            "\n",
            "  9%|▉         | 5602/60000 [00:04<00:43, 1260.20it/s]\u001b[A\u001b[A\u001b[A\n",
            "\n",
            "\n",
            " 10%|▉         | 5729/60000 [00:04<00:44, 1214.21it/s]\u001b[A\u001b[A\u001b[A\n",
            "\n",
            "\n",
            " 10%|▉         | 5852/60000 [00:05<00:45, 1185.16it/s]\u001b[A\u001b[A\u001b[A\n",
            "\n",
            "\n",
            " 10%|▉         | 5980/60000 [00:05<00:44, 1211.62it/s]\u001b[A\u001b[A\u001b[A\n",
            "\n",
            "\n",
            " 10%|█         | 6102/60000 [00:05<00:45, 1192.11it/s]\u001b[A\u001b[A\u001b[A\n",
            "\n",
            "\n",
            " 10%|█         | 6222/60000 [00:05<00:45, 1173.25it/s]\u001b[A\u001b[A\u001b[A\n",
            "\n",
            "\n",
            " 11%|█         | 6340/60000 [00:05<00:46, 1152.42it/s]\u001b[A\u001b[A\u001b[A\n",
            "\n",
            "\n",
            " 11%|█         | 6456/60000 [00:05<00:47, 1134.94it/s]\u001b[A\u001b[A\u001b[A\n",
            "\n",
            "\n",
            " 11%|█         | 6570/60000 [00:05<00:47, 1128.91it/s]\u001b[A\u001b[A\u001b[A\n",
            "\n",
            "\n",
            " 11%|█         | 6684/60000 [00:05<00:48, 1092.51it/s]\u001b[A\u001b[A\u001b[A\n",
            "\n",
            "\n",
            " 11%|█▏        | 6797/60000 [00:05<00:48, 1101.83it/s]\u001b[A\u001b[A\u001b[A\n",
            "\n",
            "\n",
            " 12%|█▏        | 6915/60000 [00:05<00:47, 1122.99it/s]\u001b[A\u001b[A\u001b[A\n",
            "\n",
            "\n",
            " 12%|█▏        | 7028/60000 [00:06<00:47, 1121.14it/s]\u001b[A\u001b[A\u001b[A\n",
            "\n",
            "\n",
            " 12%|█▏        | 7147/60000 [00:06<00:46, 1140.34it/s]\u001b[A\u001b[A\u001b[A\n",
            "\n",
            "\n",
            " 12%|█▏        | 7271/60000 [00:06<00:45, 1167.53it/s]\u001b[A\u001b[A\u001b[A\n",
            "\n",
            "\n",
            " 12%|█▏        | 7389/60000 [00:06<00:45, 1153.40it/s]\u001b[A\u001b[A\u001b[A\n",
            "\n",
            "\n",
            " 13%|█▎        | 7505/60000 [00:06<00:46, 1132.04it/s]\u001b[A\u001b[A\u001b[A\n",
            "\n",
            "\n",
            " 13%|█▎        | 7628/60000 [00:06<00:45, 1159.51it/s]\u001b[A\u001b[A\u001b[A\n",
            "\n",
            "\n",
            " 13%|█▎        | 7759/60000 [00:06<00:43, 1200.72it/s]\u001b[A\u001b[A\u001b[A\n",
            "\n",
            "\n",
            " 13%|█▎        | 7880/60000 [00:06<00:44, 1165.92it/s]\u001b[A\u001b[A\u001b[A\n",
            "\n",
            "\n",
            " 13%|█▎        | 7998/60000 [00:06<00:45, 1143.68it/s]\u001b[A\u001b[A\u001b[A\n",
            "\n",
            "\n",
            " 14%|█▎        | 8113/60000 [00:06<00:45, 1138.03it/s]\u001b[A\u001b[A\u001b[A\n",
            "\n",
            "\n",
            " 14%|█▎        | 8236/60000 [00:07<00:44, 1161.97it/s]\u001b[A\u001b[A\u001b[A\n",
            "\n",
            "\n",
            " 14%|█▍        | 8353/60000 [00:07<00:44, 1152.97it/s]\u001b[A\u001b[A\u001b[A\n",
            "\n",
            "\n",
            " 14%|█▍        | 8469/60000 [00:07<00:45, 1127.86it/s]\u001b[A\u001b[A\u001b[A\n",
            "\n",
            "\n",
            " 14%|█▍        | 8583/60000 [00:07<00:45, 1128.90it/s]\u001b[A\u001b[A\u001b[A\n",
            "\n",
            "\n",
            " 14%|█▍        | 8697/60000 [00:07<00:45, 1129.81it/s]\u001b[A\u001b[A\u001b[A\n",
            "\n",
            "\n",
            " 15%|█▍        | 8811/60000 [00:07<00:45, 1130.87it/s]\u001b[A\u001b[A\u001b[A\n",
            "\n",
            "\n",
            " 15%|█▍        | 8925/60000 [00:07<00:45, 1131.91it/s]\u001b[A\u001b[A\u001b[A\n",
            "\n",
            "\n",
            " 15%|█▌        | 9039/60000 [00:07<00:45, 1125.84it/s]\u001b[A\u001b[A\u001b[A\n",
            "\n",
            "\n",
            " 15%|█▌        | 9152/60000 [00:07<00:45, 1119.03it/s]\u001b[A\u001b[A\u001b[A\n",
            "\n",
            "\n",
            " 15%|█▌        | 9264/60000 [00:07<00:45, 1119.28it/s]\u001b[A\u001b[A\u001b[A\n",
            "\n",
            "\n",
            " 16%|█▌        | 9376/60000 [00:08<00:45, 1113.21it/s]\u001b[A\u001b[A\u001b[A\n",
            "\n",
            "\n",
            " 16%|█▌        | 9513/60000 [00:08<00:42, 1177.90it/s]\u001b[A\u001b[A\u001b[A\n",
            "\n",
            "\n",
            " 16%|█▌        | 9644/60000 [00:08<00:41, 1212.25it/s]\u001b[A\u001b[A\u001b[A\n",
            "\n",
            "\n",
            " 16%|█▋        | 9767/60000 [00:08<00:42, 1186.41it/s]\u001b[A\u001b[A\u001b[A\n",
            "\n",
            "\n",
            " 16%|█▋        | 9887/60000 [00:08<00:43, 1160.01it/s]\u001b[A\u001b[A\u001b[A\n",
            "\n",
            "\n",
            " 17%|█▋        | 10004/60000 [00:08<00:45, 1104.01it/s]\u001b[A\u001b[A\u001b[A\n",
            "\n",
            "\n",
            " 17%|█▋        | 10117/60000 [00:08<00:44, 1109.74it/s]\u001b[A\u001b[A\u001b[A\n",
            "\n",
            "\n",
            " 17%|█▋        | 10229/60000 [00:08<00:45, 1104.06it/s]\u001b[A\u001b[A\u001b[A\n",
            "\n",
            "\n",
            " 17%|█▋        | 10342/60000 [00:08<00:44, 1111.57it/s]\u001b[A\u001b[A\u001b[A\n",
            "\n",
            "\n",
            " 17%|█▋        | 10462/60000 [00:09<00:43, 1135.38it/s]\u001b[A\u001b[A\u001b[A\n",
            "\n",
            "\n",
            " 18%|█▊        | 10576/60000 [00:09<00:44, 1100.61it/s]\u001b[A\u001b[A\u001b[A\n",
            "\n",
            "\n",
            " 18%|█▊        | 10697/60000 [00:09<00:43, 1131.15it/s]\u001b[A\u001b[A\u001b[A\n",
            "\n",
            "\n",
            " 18%|█▊        | 10811/60000 [00:09<00:43, 1128.97it/s]\u001b[A\u001b[A\u001b[A\n",
            "\n",
            "\n",
            " 18%|█▊        | 10927/60000 [00:09<00:43, 1136.30it/s]\u001b[A\u001b[A\u001b[A\n",
            "\n",
            "\n",
            " 18%|█▊        | 11054/60000 [00:09<00:41, 1172.91it/s]\u001b[A\u001b[A\u001b[A\n",
            "\n",
            "\n",
            " 19%|█▊        | 11186/60000 [00:09<00:40, 1212.98it/s]\u001b[A\u001b[A\u001b[A\n",
            "\n",
            "\n",
            " 19%|█▉        | 11315/60000 [00:09<00:39, 1232.30it/s]\u001b[A\u001b[A\u001b[A\n",
            "\n",
            "\n",
            " 19%|█▉        | 11439/60000 [00:09<00:39, 1226.84it/s]\u001b[A\u001b[A\u001b[A\n",
            "\n",
            "\n",
            " 19%|█▉        | 11563/60000 [00:09<00:40, 1205.93it/s]\u001b[A\u001b[A\u001b[A\n",
            "\n",
            "\n",
            " 19%|█▉        | 11684/60000 [00:10<00:40, 1193.71it/s]\u001b[A\u001b[A\u001b[A\n",
            "\n",
            "\n",
            " 20%|█▉        | 11804/60000 [00:10<00:40, 1178.79it/s]\u001b[A\u001b[A\u001b[A\n",
            "\n",
            "\n",
            " 20%|█▉        | 11923/60000 [00:10<00:40, 1172.68it/s]\u001b[A\u001b[A\u001b[A\n",
            "\n",
            "\n",
            " 20%|██        | 12041/60000 [00:10<00:41, 1160.27it/s]\u001b[A\u001b[A\u001b[A\n",
            "\n",
            "\n",
            " 20%|██        | 12158/60000 [00:10<00:41, 1139.68it/s]\u001b[A\u001b[A\u001b[A\n",
            "\n",
            "\n",
            " 20%|██        | 12273/60000 [00:10<00:42, 1132.05it/s]\u001b[A\u001b[A\u001b[A\n",
            "\n",
            "\n",
            " 21%|██        | 12387/60000 [00:10<00:42, 1124.69it/s]\u001b[A\u001b[A\u001b[A\n",
            "\n",
            "\n",
            " 21%|██        | 12500/60000 [00:10<00:42, 1117.39it/s]\u001b[A\u001b[A\u001b[A\n",
            "\n",
            "\n",
            " 21%|██        | 12629/60000 [00:10<00:40, 1162.18it/s]\u001b[A\u001b[A\u001b[A\n",
            "\n",
            "\n",
            " 21%|██▏       | 12760/60000 [00:10<00:39, 1202.24it/s]\u001b[A\u001b[A\u001b[A\n",
            "\n",
            "\n",
            " 21%|██▏       | 12894/60000 [00:11<00:38, 1239.25it/s]\u001b[A\u001b[A\u001b[A\n",
            "\n",
            "\n",
            " 22%|██▏       | 13019/60000 [00:11<00:38, 1226.83it/s]\u001b[A\u001b[A\u001b[A\n",
            "\n",
            "\n",
            " 22%|██▏       | 13143/60000 [00:11<00:38, 1213.61it/s]\u001b[A\u001b[A\u001b[A\n",
            "\n",
            "\n",
            " 22%|██▏       | 13265/60000 [00:11<00:39, 1189.59it/s]\u001b[A\u001b[A\u001b[A\n",
            "\n",
            "\n",
            " 22%|██▏       | 13385/60000 [00:11<00:40, 1153.27it/s]\u001b[A\u001b[A\u001b[A\n",
            "\n",
            "\n",
            " 23%|██▎       | 13501/60000 [00:11<00:40, 1138.74it/s]\u001b[A\u001b[A\u001b[A\n",
            "\n",
            "\n",
            " 23%|██▎       | 13616/60000 [00:11<00:41, 1130.31it/s]\u001b[A\u001b[A\u001b[A\n",
            "\n",
            "\n",
            " 23%|██▎       | 13730/60000 [00:11<00:40, 1128.64it/s]\u001b[A\u001b[A\u001b[A\n",
            "\n",
            "\n",
            " 23%|██▎       | 13844/60000 [00:11<00:41, 1121.66it/s]\u001b[A\u001b[A\u001b[A\n",
            "\n",
            "\n",
            " 23%|██▎       | 13957/60000 [00:12<00:41, 1108.24it/s]\u001b[A\u001b[A\u001b[A\n",
            "\n",
            "\n",
            " 23%|██▎       | 14084/60000 [00:12<00:39, 1151.47it/s]\u001b[A\u001b[A\u001b[A\n",
            "\n",
            "\n",
            " 24%|██▎       | 14200/60000 [00:12<00:40, 1119.69it/s]\u001b[A\u001b[A\u001b[A\n",
            "\n",
            "\n",
            " 24%|██▍       | 14313/60000 [00:12<00:40, 1116.44it/s]\u001b[A\u001b[A\u001b[A\n",
            "\n",
            "\n",
            " 24%|██▍       | 14428/60000 [00:12<00:40, 1125.02it/s]\u001b[A\u001b[A\u001b[A\n",
            "\n",
            "\n",
            " 24%|██▍       | 14541/60000 [00:12<00:40, 1117.82it/s]\u001b[A\u001b[A\u001b[A\n",
            "\n",
            "\n",
            " 24%|██▍       | 14653/60000 [00:12<00:41, 1097.15it/s]\u001b[A\u001b[A\u001b[A\n",
            "\n",
            "\n",
            " 25%|██▍       | 14763/60000 [00:12<00:41, 1092.53it/s]\u001b[A\u001b[A\u001b[A\n",
            "\n",
            "\n",
            " 25%|██▍       | 14873/60000 [00:12<00:41, 1089.17it/s]\u001b[A\u001b[A\u001b[A\n",
            "\n",
            "\n",
            " 25%|██▍       | 14983/60000 [00:12<00:41, 1073.86it/s]\u001b[A\u001b[A\u001b[A\n",
            "\n",
            "\n",
            " 25%|██▌       | 15092/60000 [00:13<00:41, 1077.43it/s]\u001b[A\u001b[A\u001b[A\n",
            "\n",
            "\n",
            " 25%|██▌       | 15200/60000 [00:13<00:42, 1066.58it/s]\u001b[A\u001b[A\u001b[A\n",
            "\n",
            "\n",
            " 26%|██▌       | 15313/60000 [00:13<00:41, 1082.82it/s]\u001b[A\u001b[A\u001b[A\n",
            "\n",
            "\n",
            " 26%|██▌       | 15427/60000 [00:13<00:40, 1098.91it/s]\u001b[A\u001b[A\u001b[A\n",
            "\n",
            "\n",
            " 26%|██▌       | 15538/60000 [00:13<00:40, 1088.46it/s]\u001b[A\u001b[A\u001b[A\n",
            "\n",
            "\n",
            " 26%|██▌       | 15651/60000 [00:13<00:40, 1098.56it/s]\u001b[A\u001b[A\u001b[A\n",
            "\n",
            "\n",
            " 26%|██▋       | 15761/60000 [00:13<00:40, 1095.23it/s]\u001b[A\u001b[A\u001b[A\n",
            "\n",
            "\n",
            " 26%|██▋       | 15873/60000 [00:13<00:40, 1100.95it/s]\u001b[A\u001b[A\u001b[A\n",
            "\n",
            "\n",
            " 27%|██▋       | 15985/60000 [00:13<00:39, 1105.75it/s]\u001b[A\u001b[A\u001b[A\n",
            "\n",
            "\n",
            " 27%|██▋       | 16098/60000 [00:13<00:39, 1110.27it/s]\u001b[A\u001b[A\u001b[A\n",
            "\n",
            "\n",
            " 27%|██▋       | 16214/60000 [00:14<00:39, 1121.95it/s]\u001b[A\u001b[A\u001b[A\n",
            "\n",
            "\n",
            " 27%|██▋       | 16327/60000 [00:14<00:39, 1112.24it/s]\u001b[A\u001b[A\u001b[A\n",
            "\n",
            "\n",
            " 27%|██▋       | 16439/60000 [00:14<00:40, 1081.24it/s]\u001b[A\u001b[A\u001b[A\n",
            "\n",
            "\n",
            " 28%|██▊       | 16549/60000 [00:14<00:39, 1086.57it/s]\u001b[A\u001b[A\u001b[A\n",
            "\n",
            "\n",
            " 28%|██▊       | 16658/60000 [00:14<00:40, 1079.23it/s]\u001b[A\u001b[A\u001b[A\n",
            "\n",
            "\n",
            " 28%|██▊       | 16768/60000 [00:14<00:39, 1084.78it/s]\u001b[A\u001b[A\u001b[A\n",
            "\n",
            "\n",
            " 28%|██▊       | 16881/60000 [00:14<00:39, 1095.78it/s]\u001b[A\u001b[A\u001b[A\n",
            "\n",
            "\n",
            " 28%|██▊       | 16995/60000 [00:14<00:38, 1107.14it/s]\u001b[A\u001b[A\u001b[A\n",
            "\n",
            "\n",
            " 29%|██▊       | 17107/60000 [00:14<00:38, 1110.16it/s]\u001b[A\u001b[A\u001b[A\n",
            "\n",
            "\n",
            " 29%|██▊       | 17219/60000 [00:15<00:38, 1098.63it/s]\u001b[A\u001b[A\u001b[A\n",
            "\n",
            "\n",
            " 29%|██▉       | 17329/60000 [00:15<00:39, 1083.65it/s]\u001b[A\u001b[A\u001b[A\n",
            "\n",
            "\n",
            " 29%|██▉       | 17438/60000 [00:15<00:39, 1080.73it/s]\u001b[A\u001b[A\u001b[A\n",
            "\n",
            "\n",
            " 29%|██▉       | 17551/60000 [00:15<00:38, 1092.65it/s]\u001b[A\u001b[A\u001b[A\n",
            "\n",
            "\n",
            " 29%|██▉       | 17675/60000 [00:15<00:37, 1130.67it/s]\u001b[A\u001b[A\u001b[A\n",
            "\n",
            "\n",
            " 30%|██▉       | 17801/60000 [00:15<00:36, 1164.58it/s]\u001b[A\u001b[A\u001b[A\n",
            "\n",
            "\n",
            " 30%|██▉       | 17918/60000 [00:15<00:36, 1156.95it/s]\u001b[A\u001b[A\u001b[A\n",
            "\n",
            "\n",
            " 30%|███       | 18035/60000 [00:15<00:36, 1153.35it/s]\u001b[A\u001b[A\u001b[A\n",
            "\n",
            "\n",
            " 30%|███       | 18151/60000 [00:15<00:36, 1144.83it/s]\u001b[A\u001b[A\u001b[A\n",
            "\n",
            "\n",
            " 30%|███       | 18266/60000 [00:15<00:38, 1075.40it/s]\u001b[A\u001b[A\u001b[A\n",
            "\n",
            "\n",
            " 31%|███       | 18393/60000 [00:16<00:36, 1126.22it/s]\u001b[A\u001b[A\u001b[A\n",
            "\n",
            "\n",
            " 31%|███       | 18514/60000 [00:16<00:36, 1149.07it/s]\u001b[A\u001b[A\u001b[A\n",
            "\n",
            "\n",
            " 31%|███       | 18630/60000 [00:16<00:36, 1134.35it/s]\u001b[A\u001b[A\u001b[A\n",
            "\n",
            "\n",
            " 31%|███       | 18745/60000 [00:16<00:36, 1137.87it/s]\u001b[A\u001b[A\u001b[A\n",
            "\n",
            "\n",
            " 31%|███▏      | 18860/60000 [00:16<00:36, 1128.61it/s]\u001b[A\u001b[A\u001b[A\n",
            "\n",
            "\n",
            " 32%|███▏      | 18974/60000 [00:16<00:37, 1108.20it/s]\u001b[A\u001b[A\u001b[A\n",
            "\n",
            "\n",
            " 32%|███▏      | 19086/60000 [00:16<00:37, 1083.36it/s]\u001b[A\u001b[A\u001b[A\n",
            "\n",
            "\n",
            " 32%|███▏      | 19210/60000 [00:16<00:36, 1124.15it/s]\u001b[A\u001b[A\u001b[A\n",
            "\n",
            "\n",
            " 32%|███▏      | 19324/60000 [00:16<00:36, 1127.50it/s]\u001b[A\u001b[A\u001b[A\n",
            "\n",
            "\n",
            " 32%|███▏      | 19438/60000 [00:16<00:35, 1130.04it/s]\u001b[A\u001b[A\u001b[A\n",
            "\n",
            "\n",
            " 33%|███▎      | 19552/60000 [00:17<00:35, 1131.07it/s]\u001b[A\u001b[A\u001b[A\n",
            "\n",
            "\n",
            " 33%|███▎      | 19666/60000 [00:17<00:35, 1129.74it/s]\u001b[A\u001b[A\u001b[A\n",
            "\n",
            "\n",
            " 33%|███▎      | 19780/60000 [00:17<00:36, 1096.83it/s]\u001b[A\u001b[A\u001b[A\n",
            "\n",
            "\n",
            " 33%|███▎      | 19913/60000 [00:17<00:34, 1156.68it/s]\u001b[A\u001b[A\u001b[A\n",
            "\n",
            "\n",
            " 33%|███▎      | 20047/60000 [00:17<00:33, 1204.73it/s]\u001b[A\u001b[A\u001b[A\n",
            "\n",
            "\n",
            " 34%|███▎      | 20170/60000 [00:17<00:32, 1210.96it/s]\u001b[A\u001b[A\u001b[A\n",
            "\n",
            "\n",
            " 34%|███▍      | 20293/60000 [00:17<00:33, 1174.79it/s]\u001b[A\u001b[A\u001b[A\n",
            "\n",
            "\n",
            " 34%|███▍      | 20412/60000 [00:17<00:34, 1158.40it/s]\u001b[A\u001b[A\u001b[A\n",
            "\n",
            "\n",
            " 34%|███▍      | 20529/60000 [00:17<00:34, 1152.49it/s]\u001b[A\u001b[A\u001b[A\n",
            "\n",
            "\n",
            " 34%|███▍      | 20645/60000 [00:18<00:34, 1128.09it/s]\u001b[A\u001b[A\u001b[A\n",
            "\n",
            "\n",
            " 35%|███▍      | 20759/60000 [00:18<00:35, 1105.68it/s]\u001b[A\u001b[A\u001b[A\n",
            "\n",
            "\n",
            " 35%|███▍      | 20870/60000 [00:18<00:35, 1092.38it/s]\u001b[A\u001b[A\u001b[A\n",
            "\n",
            "\n",
            " 35%|███▍      | 20981/60000 [00:18<00:35, 1097.58it/s]\u001b[A\u001b[A\u001b[A\n",
            "\n",
            "\n",
            " 35%|███▌      | 21105/60000 [00:18<00:34, 1135.68it/s]\u001b[A\u001b[A\u001b[A\n",
            "\n",
            "\n",
            " 35%|███▌      | 21220/60000 [00:18<00:34, 1127.15it/s]\u001b[A\u001b[A\u001b[A\n",
            "\n",
            "\n",
            " 36%|███▌      | 21334/60000 [00:18<00:34, 1127.48it/s]\u001b[A\u001b[A\u001b[A\n",
            "\n",
            "\n",
            " 36%|███▌      | 21448/60000 [00:18<00:34, 1126.70it/s]\u001b[A\u001b[A\u001b[A\n",
            "\n",
            "\n",
            " 36%|███▌      | 21561/60000 [00:18<00:34, 1118.50it/s]\u001b[A\u001b[A\u001b[A\n",
            "\n",
            "\n",
            " 36%|███▌      | 21673/60000 [00:18<00:34, 1103.51it/s]\u001b[A\u001b[A\u001b[A\n",
            "\n",
            "\n",
            " 36%|███▋      | 21785/60000 [00:19<00:34, 1108.19it/s]\u001b[A\u001b[A\u001b[A\n",
            "\n",
            "\n",
            " 36%|███▋      | 21897/60000 [00:19<00:34, 1110.74it/s]\u001b[A\u001b[A\u001b[A\n",
            "\n",
            "\n",
            " 37%|███▋      | 22011/60000 [00:19<00:33, 1118.00it/s]\u001b[A\u001b[A\u001b[A\n",
            "\n",
            "\n",
            " 37%|███▋      | 22123/60000 [00:19<00:33, 1115.53it/s]\u001b[A\u001b[A\u001b[A\n",
            "\n",
            "\n",
            " 37%|███▋      | 22259/60000 [00:19<00:32, 1176.80it/s]\u001b[A\u001b[A\u001b[A\n",
            "\n",
            "\n",
            " 37%|███▋      | 22394/60000 [00:19<00:30, 1222.10it/s]\u001b[A\u001b[A\u001b[A\n",
            "\n",
            "\n",
            " 38%|███▊      | 22518/60000 [00:19<00:31, 1203.00it/s]\u001b[A\u001b[A\u001b[A\n",
            "\n",
            "\n",
            " 38%|███▊      | 22640/60000 [00:19<00:31, 1183.00it/s]\u001b[A\u001b[A\u001b[A\n",
            "\n",
            "\n",
            " 38%|███▊      | 22759/60000 [00:19<00:31, 1177.49it/s]\u001b[A\u001b[A\u001b[A\n",
            "\n",
            "\n",
            " 38%|███▊      | 22878/60000 [00:19<00:32, 1148.55it/s]\u001b[A\u001b[A\u001b[A\n",
            "\n",
            "\n",
            " 38%|███▊      | 22994/60000 [00:20<00:32, 1147.06it/s]\u001b[A\u001b[A\u001b[A\n",
            "\n",
            "\n",
            " 39%|███▊      | 23110/60000 [00:20<00:32, 1125.81it/s]\u001b[A\u001b[A\u001b[A\n",
            "\n",
            "\n",
            " 39%|███▊      | 23223/60000 [00:20<00:32, 1116.00it/s]\u001b[A\u001b[A\u001b[A\n",
            "\n",
            "\n",
            " 39%|███▉      | 23335/60000 [00:20<00:33, 1109.87it/s]\u001b[A\u001b[A\u001b[A\n",
            "\n",
            "\n",
            " 39%|███▉      | 23456/60000 [00:20<00:32, 1137.47it/s]\u001b[A\u001b[A\u001b[A\n",
            "\n",
            "\n",
            " 39%|███▉      | 23578/60000 [00:20<00:31, 1159.92it/s]\u001b[A\u001b[A\u001b[A\n",
            "\n",
            "\n",
            " 39%|███▉      | 23695/60000 [00:20<00:31, 1161.13it/s]\u001b[A\u001b[A\u001b[A\n",
            "\n",
            "\n",
            " 40%|███▉      | 23812/60000 [00:20<00:31, 1147.01it/s]\u001b[A\u001b[A\u001b[A\n",
            "\n",
            "\n",
            " 40%|███▉      | 23927/60000 [00:20<00:32, 1126.36it/s]\u001b[A\u001b[A\u001b[A\n",
            "\n",
            "\n",
            " 40%|████      | 24040/60000 [00:21<00:32, 1120.35it/s]\u001b[A\u001b[A\u001b[A\n",
            "\n",
            "\n",
            " 40%|████      | 24153/60000 [00:21<00:32, 1118.73it/s]\u001b[A\u001b[A\u001b[A\n",
            "\n",
            "\n",
            " 40%|████      | 24265/60000 [00:21<00:32, 1115.09it/s]\u001b[A\u001b[A\u001b[A\n",
            "\n",
            "\n",
            " 41%|████      | 24377/60000 [00:21<00:32, 1101.89it/s]\u001b[A\u001b[A\u001b[A\n",
            "\n",
            "\n",
            " 41%|████      | 24489/60000 [00:21<00:32, 1105.53it/s]\u001b[A\u001b[A\u001b[A\n",
            "\n",
            "\n",
            " 41%|████      | 24600/60000 [00:21<00:32, 1089.29it/s]\u001b[A\u001b[A\u001b[A\n",
            "\n",
            "\n",
            " 41%|████      | 24714/60000 [00:21<00:32, 1102.41it/s]\u001b[A\u001b[A\u001b[A\n",
            "\n",
            "\n",
            " 41%|████▏     | 24828/60000 [00:21<00:31, 1110.95it/s]\u001b[A\u001b[A\u001b[A\n",
            "\n",
            "\n",
            " 42%|████▏     | 24940/60000 [00:21<00:31, 1112.81it/s]\u001b[A\u001b[A\u001b[A\n",
            "\n",
            "\n",
            " 42%|████▏     | 25056/60000 [00:21<00:31, 1126.24it/s]\u001b[A\u001b[A\u001b[A\n",
            "\n",
            "\n",
            " 42%|████▏     | 25171/60000 [00:22<00:30, 1131.71it/s]\u001b[A\u001b[A\u001b[A\n",
            "\n",
            "\n",
            " 42%|████▏     | 25286/60000 [00:22<00:30, 1136.39it/s]\u001b[A\u001b[A\u001b[A\n",
            "\n",
            "\n",
            " 42%|████▏     | 25400/60000 [00:22<00:31, 1115.80it/s]\u001b[A\u001b[A\u001b[A\n",
            "\n",
            "\n",
            " 43%|████▎     | 25512/60000 [00:22<00:30, 1114.42it/s]\u001b[A\u001b[A\u001b[A\n",
            "\n",
            "\n",
            " 43%|████▎     | 25624/60000 [00:22<00:31, 1107.03it/s]\u001b[A\u001b[A\u001b[A\n",
            "\n",
            "\n",
            " 43%|████▎     | 25739/60000 [00:22<00:30, 1117.43it/s]\u001b[A\u001b[A\u001b[A\n",
            "\n",
            "\n",
            " 43%|████▎     | 25857/60000 [00:22<00:30, 1135.31it/s]\u001b[A\u001b[A\u001b[A\n",
            "\n",
            "\n",
            " 43%|████▎     | 25975/60000 [00:22<00:29, 1146.33it/s]\u001b[A\u001b[A\u001b[A\n",
            "\n",
            "\n",
            " 43%|████▎     | 26094/60000 [00:22<00:29, 1158.42it/s]\u001b[A\u001b[A\u001b[A\n",
            "\n",
            "\n",
            " 44%|████▎     | 26211/60000 [00:22<00:29, 1159.45it/s]\u001b[A\u001b[A\u001b[A\n",
            "\n",
            "\n",
            " 44%|████▍     | 26335/60000 [00:23<00:28, 1179.90it/s]\u001b[A\u001b[A\u001b[A\n",
            "\n",
            "\n",
            " 44%|████▍     | 26454/60000 [00:23<00:28, 1159.43it/s]\u001b[A\u001b[A\u001b[A\n",
            "\n",
            "\n",
            " 44%|████▍     | 26571/60000 [00:23<00:29, 1126.56it/s]\u001b[A\u001b[A\u001b[A\n",
            "\n",
            "\n",
            " 44%|████▍     | 26698/60000 [00:23<00:28, 1165.21it/s]\u001b[A\u001b[A\u001b[A\n",
            "\n",
            "\n",
            " 45%|████▍     | 26819/60000 [00:23<00:28, 1178.24it/s]\u001b[A\u001b[A\u001b[A\n",
            "\n",
            "\n",
            " 45%|████▍     | 26938/60000 [00:23<00:28, 1167.34it/s]\u001b[A\u001b[A\u001b[A\n",
            "\n",
            "\n",
            " 45%|████▌     | 27056/60000 [00:23<00:28, 1155.34it/s]\u001b[A\u001b[A\u001b[A\n",
            "\n",
            "\n",
            " 45%|████▌     | 27172/60000 [00:23<00:28, 1140.48it/s]\u001b[A\u001b[A\u001b[A\n",
            "\n",
            "\n",
            " 46%|████▌     | 27301/60000 [00:23<00:27, 1180.13it/s]\u001b[A\u001b[A\u001b[A\n",
            "\n",
            "\n",
            " 46%|████▌     | 27431/60000 [00:23<00:26, 1213.70it/s]\u001b[A\u001b[A\u001b[A\n",
            "\n",
            "\n",
            " 46%|████▌     | 27553/60000 [00:24<00:27, 1161.53it/s]\u001b[A\u001b[A\u001b[A\n",
            "\n",
            "\n",
            " 46%|████▌     | 27671/60000 [00:24<00:28, 1141.73it/s]\u001b[A\u001b[A\u001b[A\n",
            "\n",
            "\n",
            " 46%|████▋     | 27786/60000 [00:24<00:28, 1127.43it/s]\u001b[A\u001b[A\u001b[A\n",
            "\n",
            "\n",
            " 46%|████▋     | 27900/60000 [00:24<00:28, 1118.85it/s]\u001b[A\u001b[A\u001b[A\n",
            "\n",
            "\n",
            " 47%|████▋     | 28013/60000 [00:24<00:29, 1089.27it/s]\u001b[A\u001b[A\u001b[A\n",
            "\n",
            "\n",
            " 47%|████▋     | 28129/60000 [00:24<00:28, 1108.34it/s]\u001b[A\u001b[A\u001b[A\n",
            "\n",
            "\n",
            " 47%|████▋     | 28252/60000 [00:24<00:27, 1142.23it/s]\u001b[A\u001b[A\u001b[A\n",
            "\n",
            "\n",
            " 47%|████▋     | 28367/60000 [00:24<00:27, 1138.46it/s]\u001b[A\u001b[A\u001b[A\n",
            "\n",
            "\n",
            " 47%|████▋     | 28494/60000 [00:24<00:26, 1174.21it/s]\u001b[A\u001b[A\u001b[A\n",
            "\n",
            "\n",
            " 48%|████▊     | 28612/60000 [00:25<00:26, 1170.65it/s]\u001b[A\u001b[A\u001b[A\n",
            "\n",
            "\n",
            " 48%|████▊     | 28742/60000 [00:25<00:25, 1205.72it/s]\u001b[A\u001b[A\u001b[A\n",
            "\n",
            "\n",
            " 48%|████▊     | 28864/60000 [00:25<00:26, 1176.47it/s]\u001b[A\u001b[A\u001b[A\n",
            "\n",
            "\n",
            " 48%|████▊     | 28983/60000 [00:25<00:27, 1132.25it/s]\u001b[A\u001b[A\u001b[A\n",
            "\n",
            "\n",
            " 49%|████▊     | 29107/60000 [00:25<00:26, 1160.19it/s]\u001b[A\u001b[A\u001b[A\n",
            "\n",
            "\n",
            " 49%|████▊     | 29224/60000 [00:25<00:26, 1154.75it/s]\u001b[A\u001b[A\u001b[A\n",
            "\n",
            "\n",
            " 49%|████▉     | 29340/60000 [00:25<00:26, 1154.72it/s]\u001b[A\u001b[A\u001b[A\n",
            "\n",
            "\n",
            " 49%|████▉     | 29473/60000 [00:25<00:25, 1200.43it/s]\u001b[A\u001b[A\u001b[A\n",
            "\n",
            "\n",
            " 49%|████▉     | 29594/60000 [00:25<00:25, 1186.08it/s]\u001b[A\u001b[A\u001b[A\n",
            "\n",
            "\n",
            " 50%|████▉     | 29714/60000 [00:25<00:25, 1184.03it/s]\u001b[A\u001b[A\u001b[A\n",
            "\n",
            "\n",
            " 50%|████▉     | 29833/60000 [00:26<00:25, 1169.24it/s]\u001b[A\u001b[A\u001b[A\n",
            "\n",
            "\n",
            " 50%|████▉     | 29951/60000 [00:26<00:27, 1106.09it/s]\u001b[A\u001b[A\u001b[A\n",
            "\n",
            "\n",
            " 50%|█████     | 30070/60000 [00:26<00:26, 1127.58it/s]\u001b[A\u001b[A\u001b[A\n",
            "\n",
            "\n",
            " 50%|█████     | 30194/60000 [00:26<00:25, 1158.60it/s]\u001b[A\u001b[A\u001b[A\n",
            "\n",
            "\n",
            " 51%|█████     | 30311/60000 [00:26<00:26, 1128.15it/s]\u001b[A\u001b[A\u001b[A\n",
            "\n",
            "\n",
            " 51%|█████     | 30428/60000 [00:26<00:25, 1138.43it/s]\u001b[A\u001b[A\u001b[A\n",
            "\n",
            "\n",
            " 51%|█████     | 30548/60000 [00:26<00:25, 1156.20it/s]\u001b[A\u001b[A\u001b[A\n",
            "\n",
            "\n",
            " 51%|█████     | 30666/60000 [00:26<00:25, 1162.77it/s]\u001b[A\u001b[A\u001b[A\n",
            "\n",
            "\n",
            " 51%|█████▏    | 30786/60000 [00:26<00:24, 1171.36it/s]\u001b[A\u001b[A\u001b[A\n",
            "\n",
            "\n",
            " 52%|█████▏    | 30907/60000 [00:26<00:24, 1180.38it/s]\u001b[A\u001b[A\u001b[A\n",
            "\n",
            "\n",
            " 52%|█████▏    | 31026/60000 [00:27<00:24, 1176.96it/s]\u001b[A\u001b[A\u001b[A\n",
            "\n",
            "\n",
            " 52%|█████▏    | 31144/60000 [00:27<00:24, 1166.70it/s]\u001b[A\u001b[A\u001b[A\n",
            "\n",
            "\n",
            " 52%|█████▏    | 31261/60000 [00:27<00:25, 1134.09it/s]\u001b[A\u001b[A\u001b[A\n",
            "\n",
            "\n",
            " 52%|█████▏    | 31378/60000 [00:27<00:25, 1142.47it/s]\u001b[A\u001b[A\u001b[A\n",
            "\n",
            "\n",
            " 52%|█████▏    | 31493/60000 [00:27<00:25, 1133.93it/s]\u001b[A\u001b[A\u001b[A\n",
            "\n",
            "\n",
            " 53%|█████▎    | 31607/60000 [00:27<00:25, 1123.38it/s]\u001b[A\u001b[A\u001b[A\n",
            "\n",
            "\n",
            " 53%|█████▎    | 31720/60000 [00:27<00:25, 1109.56it/s]\u001b[A\u001b[A\u001b[A\n",
            "\n",
            "\n",
            " 53%|█████▎    | 31832/60000 [00:27<00:25, 1105.24it/s]\u001b[A\u001b[A\u001b[A\n",
            "\n",
            "\n",
            " 53%|█████▎    | 31943/60000 [00:27<00:25, 1104.71it/s]\u001b[A\u001b[A\u001b[A\n",
            "\n",
            "\n",
            " 53%|█████▎    | 32054/60000 [00:28<00:25, 1098.52it/s]\u001b[A\u001b[A\u001b[A\n",
            "\n",
            "\n",
            " 54%|█████▎    | 32164/60000 [00:28<00:25, 1098.30it/s]\u001b[A\u001b[A\u001b[A\n",
            "\n",
            "\n",
            " 54%|█████▍    | 32276/60000 [00:28<00:25, 1103.62it/s]\u001b[A\u001b[A\u001b[A\n",
            "\n",
            "\n",
            " 54%|█████▍    | 32387/60000 [00:28<00:25, 1096.91it/s]\u001b[A\u001b[A\u001b[A\n",
            "\n",
            "\n",
            " 54%|█████▍    | 32497/60000 [00:28<00:25, 1076.86it/s]\u001b[A\u001b[A\u001b[A\n",
            "\n",
            "\n",
            " 54%|█████▍    | 32605/60000 [00:28<00:25, 1064.81it/s]\u001b[A\u001b[A\u001b[A\n",
            "\n",
            "\n",
            " 55%|█████▍    | 32716/60000 [00:28<00:25, 1076.91it/s]\u001b[A\u001b[A\u001b[A\n",
            "\n",
            "\n",
            " 55%|█████▍    | 32824/60000 [00:28<00:25, 1075.89it/s]\u001b[A\u001b[A\u001b[A\n",
            "\n",
            "\n",
            " 55%|█████▍    | 32936/60000 [00:28<00:24, 1086.97it/s]\u001b[A\u001b[A\u001b[A\n",
            "\n",
            "\n",
            " 55%|█████▌    | 33065/60000 [00:28<00:23, 1140.40it/s]\u001b[A\u001b[A\u001b[A\n",
            "\n",
            "\n",
            " 55%|█████▌    | 33199/60000 [00:29<00:22, 1192.34it/s]\u001b[A\u001b[A\u001b[A\n",
            "\n",
            "\n",
            " 56%|█████▌    | 33330/60000 [00:29<00:21, 1224.13it/s]\u001b[A\u001b[A\u001b[A\n",
            "\n",
            "\n",
            " 56%|█████▌    | 33454/60000 [00:29<00:21, 1215.50it/s]\u001b[A\u001b[A\u001b[A\n",
            "\n",
            "\n",
            " 56%|█████▌    | 33577/60000 [00:29<00:21, 1212.52it/s]\u001b[A\u001b[A\u001b[A\n",
            "\n",
            "\n",
            " 56%|█████▌    | 33699/60000 [00:29<00:22, 1172.19it/s]\u001b[A\u001b[A\u001b[A\n",
            "\n",
            "\n",
            " 56%|█████▋    | 33817/60000 [00:29<00:22, 1140.35it/s]\u001b[A\u001b[A\u001b[A\n",
            "\n",
            "\n",
            " 57%|█████▋    | 33932/60000 [00:29<00:22, 1134.58it/s]\u001b[A\u001b[A\u001b[A\n",
            "\n",
            "\n",
            " 57%|█████▋    | 34046/60000 [00:29<00:23, 1126.31it/s]\u001b[A\u001b[A\u001b[A\n",
            "\n",
            "\n",
            " 57%|█████▋    | 34159/60000 [00:29<00:22, 1124.09it/s]\u001b[A\u001b[A\u001b[A\n",
            "\n",
            "\n",
            " 57%|█████▋    | 34272/60000 [00:29<00:23, 1113.41it/s]\u001b[A\u001b[A\u001b[A\n",
            "\n",
            "\n",
            " 57%|█████▋    | 34384/60000 [00:30<00:23, 1105.63it/s]\u001b[A\u001b[A\u001b[A\n",
            "\n",
            "\n",
            " 57%|█████▋    | 34495/60000 [00:30<00:23, 1095.74it/s]\u001b[A\u001b[A\u001b[A\n",
            "\n",
            "\n",
            " 58%|█████▊    | 34605/60000 [00:30<00:23, 1083.76it/s]\u001b[A\u001b[A\u001b[A\n",
            "\n",
            "\n",
            " 58%|█████▊    | 34714/60000 [00:30<00:23, 1081.11it/s]\u001b[A\u001b[A\u001b[A\n",
            "\n",
            "\n",
            " 58%|█████▊    | 34823/60000 [00:30<00:23, 1083.49it/s]\u001b[A\u001b[A\u001b[A\n",
            "\n",
            "\n",
            " 58%|█████▊    | 34933/60000 [00:30<00:23, 1087.11it/s]\u001b[A\u001b[A\u001b[A\n",
            "\n",
            "\n",
            " 58%|█████▊    | 35047/60000 [00:30<00:22, 1101.94it/s]\u001b[A\u001b[A\u001b[A\n",
            "\n",
            "\n",
            " 59%|█████▊    | 35158/60000 [00:30<00:22, 1099.48it/s]\u001b[A\u001b[A\u001b[A\n",
            "\n",
            "\n",
            " 59%|█████▉    | 35269/60000 [00:30<00:22, 1100.21it/s]\u001b[A\u001b[A\u001b[A\n",
            "\n",
            "\n",
            " 59%|█████▉    | 35380/60000 [00:30<00:22, 1089.05it/s]\u001b[A\u001b[A\u001b[A\n",
            "\n",
            "\n",
            " 59%|█████▉    | 35501/60000 [00:31<00:21, 1122.12it/s]\u001b[A\u001b[A\u001b[A\n",
            "\n",
            "\n",
            " 59%|█████▉    | 35616/60000 [00:31<00:21, 1130.02it/s]\u001b[A\u001b[A\u001b[A\n",
            "\n",
            "\n",
            " 60%|█████▉    | 35734/60000 [00:31<00:21, 1142.03it/s]\u001b[A\u001b[A\u001b[A\n",
            "\n",
            "\n",
            " 60%|█████▉    | 35855/60000 [00:31<00:20, 1159.83it/s]\u001b[A\u001b[A\u001b[A\n",
            "\n",
            "\n",
            " 60%|█████▉    | 35972/60000 [00:31<00:20, 1155.45it/s]\u001b[A\u001b[A\u001b[A\n",
            "\n",
            "\n",
            " 60%|██████    | 36088/60000 [00:31<00:21, 1134.59it/s]\u001b[A\u001b[A\u001b[A\n",
            "\n",
            "\n",
            " 60%|██████    | 36202/60000 [00:31<00:20, 1133.46it/s]\u001b[A\u001b[A\u001b[A\n",
            "\n",
            "\n",
            " 61%|██████    | 36316/60000 [00:31<00:21, 1122.84it/s]\u001b[A\u001b[A\u001b[A\n",
            "\n",
            "\n",
            " 61%|██████    | 36429/60000 [00:31<00:21, 1114.53it/s]\u001b[A\u001b[A\u001b[A\n",
            "\n",
            "\n",
            " 61%|██████    | 36541/60000 [00:32<00:21, 1109.68it/s]\u001b[A\u001b[A\u001b[A\n",
            "\n",
            "\n",
            " 61%|██████    | 36653/60000 [00:32<00:21, 1107.56it/s]\u001b[A\u001b[A\u001b[A\n",
            "\n",
            "\n",
            " 61%|██████▏   | 36764/60000 [00:32<00:21, 1103.39it/s]\u001b[A\u001b[A\u001b[A\n",
            "\n",
            "\n",
            " 61%|██████▏   | 36875/60000 [00:32<00:21, 1092.87it/s]\u001b[A\u001b[A\u001b[A\n",
            "\n",
            "\n",
            " 62%|██████▏   | 36985/60000 [00:32<00:21, 1086.08it/s]\u001b[A\u001b[A\u001b[A\n",
            "\n",
            "\n",
            " 62%|██████▏   | 37094/60000 [00:32<00:21, 1086.23it/s]\u001b[A\u001b[A\u001b[A\n",
            "\n",
            "\n",
            " 62%|██████▏   | 37205/60000 [00:32<00:20, 1092.94it/s]\u001b[A\u001b[A\u001b[A\n",
            "\n",
            "\n",
            " 62%|██████▏   | 37316/60000 [00:32<00:20, 1096.20it/s]\u001b[A\u001b[A\u001b[A\n",
            "\n",
            "\n",
            " 62%|██████▏   | 37429/60000 [00:32<00:20, 1104.31it/s]\u001b[A\u001b[A\u001b[A\n",
            "\n",
            "\n",
            " 63%|██████▎   | 37540/60000 [00:32<00:20, 1090.18it/s]\u001b[A\u001b[A\u001b[A\n",
            "\n",
            "\n",
            " 63%|██████▎   | 37650/60000 [00:33<00:20, 1088.39it/s]\u001b[A\u001b[A\u001b[A\n",
            "\n",
            "\n",
            " 63%|██████▎   | 37764/60000 [00:33<00:20, 1102.39it/s]\u001b[A\u001b[A\u001b[A\n",
            "\n",
            "\n",
            " 63%|██████▎   | 37885/60000 [00:33<00:19, 1132.02it/s]\u001b[A\u001b[A\u001b[A\n",
            "\n",
            "\n",
            " 63%|██████▎   | 37999/60000 [00:33<00:19, 1122.72it/s]\u001b[A\u001b[A\u001b[A\n",
            "\n",
            "\n",
            " 64%|██████▎   | 38112/60000 [00:33<00:19, 1122.75it/s]\u001b[A\u001b[A\u001b[A\n",
            "\n",
            "\n",
            " 64%|██████▎   | 38226/60000 [00:33<00:19, 1125.98it/s]\u001b[A\u001b[A\u001b[A\n",
            "\n",
            "\n",
            " 64%|██████▍   | 38339/60000 [00:33<00:19, 1122.66it/s]\u001b[A\u001b[A\u001b[A\n",
            "\n",
            "\n",
            " 64%|██████▍   | 38461/60000 [00:33<00:18, 1149.16it/s]\u001b[A\u001b[A\u001b[A\n",
            "\n",
            "\n",
            " 64%|██████▍   | 38577/60000 [00:33<00:19, 1125.73it/s]\u001b[A\u001b[A\u001b[A\n",
            "\n",
            "\n",
            " 64%|██████▍   | 38692/60000 [00:33<00:18, 1130.49it/s]\u001b[A\u001b[A\u001b[A\n",
            "\n",
            "\n",
            " 65%|██████▍   | 38806/60000 [00:34<00:18, 1126.03it/s]\u001b[A\u001b[A\u001b[A\n",
            "\n",
            "\n",
            " 65%|██████▍   | 38919/60000 [00:34<00:18, 1113.65it/s]\u001b[A\u001b[A\u001b[A\n",
            "\n",
            "\n",
            " 65%|██████▌   | 39049/60000 [00:34<00:18, 1162.03it/s]\u001b[A\u001b[A\u001b[A\n",
            "\n",
            "\n",
            " 65%|██████▌   | 39180/60000 [00:34<00:17, 1202.26it/s]\u001b[A\u001b[A\u001b[A\n",
            "\n",
            "\n",
            " 66%|██████▌   | 39312/60000 [00:34<00:16, 1235.19it/s]\u001b[A\u001b[A\u001b[A\n",
            "\n",
            "\n",
            " 66%|██████▌   | 39437/60000 [00:34<00:17, 1205.98it/s]\u001b[A\u001b[A\u001b[A\n",
            "\n",
            "\n",
            " 66%|██████▌   | 39559/60000 [00:34<00:17, 1149.48it/s]\u001b[A\u001b[A\u001b[A\n",
            "\n",
            "\n",
            " 66%|██████▌   | 39675/60000 [00:34<00:17, 1143.89it/s]\u001b[A\u001b[A\u001b[A\n",
            "\n",
            "\n",
            " 66%|██████▋   | 39791/60000 [00:34<00:17, 1140.92it/s]\u001b[A\u001b[A\u001b[A\n",
            "\n",
            "\n",
            " 67%|██████▋   | 39906/60000 [00:34<00:17, 1131.68it/s]\u001b[A\u001b[A\u001b[A\n",
            "\n",
            "\n",
            " 67%|██████▋   | 40027/60000 [00:35<00:17, 1153.40it/s]\u001b[A\u001b[A\u001b[A\n",
            "\n",
            "\n",
            " 67%|██████▋   | 40143/60000 [00:35<00:17, 1143.87it/s]\u001b[A\u001b[A\u001b[A\n",
            "\n",
            "\n",
            " 67%|██████▋   | 40258/60000 [00:35<00:17, 1137.76it/s]\u001b[A\u001b[A\u001b[A\n",
            "\n",
            "\n",
            " 67%|██████▋   | 40372/60000 [00:35<00:17, 1129.50it/s]\u001b[A\u001b[A\u001b[A\n",
            "\n",
            "\n",
            " 67%|██████▋   | 40496/60000 [00:35<00:16, 1158.58it/s]\u001b[A\u001b[A\u001b[A\n",
            "\n",
            "\n",
            " 68%|██████▊   | 40621/60000 [00:35<00:16, 1183.94it/s]\u001b[A\u001b[A\u001b[A\n",
            "\n",
            "\n",
            " 68%|██████▊   | 40740/60000 [00:35<00:17, 1126.79it/s]\u001b[A\u001b[A\u001b[A\n",
            "\n",
            "\n",
            " 68%|██████▊   | 40854/60000 [00:35<00:17, 1125.77it/s]\u001b[A\u001b[A\u001b[A\n",
            "\n",
            "\n",
            " 68%|██████▊   | 40976/60000 [00:35<00:16, 1150.01it/s]\u001b[A\u001b[A\u001b[A\n",
            "\n",
            "\n",
            " 68%|██████▊   | 41097/60000 [00:36<00:16, 1165.62it/s]\u001b[A\u001b[A\u001b[A\n",
            "\n",
            "\n",
            " 69%|██████▊   | 41216/60000 [00:36<00:16, 1170.73it/s]\u001b[A\u001b[A\u001b[A\n",
            "\n",
            "\n",
            " 69%|██████▉   | 41334/60000 [00:36<00:16, 1135.23it/s]\u001b[A\u001b[A\u001b[A\n",
            "\n",
            "\n",
            " 69%|██████▉   | 41448/60000 [00:36<00:16, 1132.31it/s]\u001b[A\u001b[A\u001b[A\n",
            "\n",
            "\n",
            " 69%|██████▉   | 41562/60000 [00:36<00:16, 1120.08it/s]\u001b[A\u001b[A\u001b[A\n",
            "\n",
            "\n",
            " 69%|██████▉   | 41675/60000 [00:36<00:16, 1118.23it/s]\u001b[A\u001b[A\u001b[A\n",
            "\n",
            "\n",
            " 70%|██████▉   | 41788/60000 [00:36<00:16, 1119.27it/s]\u001b[A\u001b[A\u001b[A\n",
            "\n",
            "\n",
            " 70%|██████▉   | 41902/60000 [00:36<00:16, 1123.51it/s]\u001b[A\u001b[A\u001b[A\n",
            "\n",
            "\n",
            " 70%|███████   | 42032/60000 [00:36<00:15, 1170.83it/s]\u001b[A\u001b[A\u001b[A\n",
            "\n",
            "\n",
            " 70%|███████   | 42150/60000 [00:36<00:15, 1171.61it/s]\u001b[A\u001b[A\u001b[A\n",
            "\n",
            "\n",
            " 70%|███████   | 42278/60000 [00:37<00:14, 1199.75it/s]\u001b[A\u001b[A\u001b[A\n",
            "\n",
            "\n",
            " 71%|███████   | 42399/60000 [00:37<00:14, 1188.54it/s]\u001b[A\u001b[A\u001b[A\n",
            "\n",
            "\n",
            " 71%|███████   | 42520/60000 [00:37<00:14, 1192.56it/s]\u001b[A\u001b[A\u001b[A\n",
            "\n",
            "\n",
            " 71%|███████   | 42640/60000 [00:37<00:14, 1166.22it/s]\u001b[A\u001b[A\u001b[A\n",
            "\n",
            "\n",
            " 71%|███████▏  | 42757/60000 [00:37<00:14, 1153.98it/s]\u001b[A\u001b[A\u001b[A\n",
            "\n",
            "\n",
            " 71%|███████▏  | 42873/60000 [00:37<00:15, 1135.88it/s]\u001b[A\u001b[A\u001b[A\n",
            "\n",
            "\n",
            " 72%|███████▏  | 42987/60000 [00:37<00:15, 1127.67it/s]\u001b[A\u001b[A\u001b[A\n",
            "\n",
            "\n",
            " 72%|███████▏  | 43100/60000 [00:37<00:15, 1097.63it/s]\u001b[A\u001b[A\u001b[A\n",
            "\n",
            "\n",
            " 72%|███████▏  | 43211/60000 [00:37<00:15, 1076.21it/s]\u001b[A\u001b[A\u001b[A\n",
            "\n",
            "\n",
            " 72%|███████▏  | 43322/60000 [00:37<00:15, 1085.31it/s]\u001b[A\u001b[A\u001b[A\n",
            "\n",
            "\n",
            " 72%|███████▏  | 43436/60000 [00:38<00:15, 1100.64it/s]\u001b[A\u001b[A\u001b[A\n",
            "\n",
            "\n",
            " 73%|███████▎  | 43550/60000 [00:38<00:14, 1111.29it/s]\u001b[A\u001b[A\u001b[A\n",
            "\n",
            "\n",
            " 73%|███████▎  | 43664/60000 [00:38<00:14, 1117.63it/s]\u001b[A\u001b[A\u001b[A\n",
            "\n",
            "\n",
            " 73%|███████▎  | 43784/60000 [00:38<00:14, 1139.36it/s]\u001b[A\u001b[A\u001b[A\n",
            "\n",
            "\n",
            " 73%|███████▎  | 43899/60000 [00:38<00:14, 1134.22it/s]\u001b[A\u001b[A\u001b[A\n",
            "\n",
            "\n",
            " 73%|███████▎  | 44013/60000 [00:38<00:14, 1132.67it/s]\u001b[A\u001b[A\u001b[A\n",
            "\n",
            "\n",
            " 74%|███████▎  | 44131/60000 [00:38<00:13, 1145.07it/s]\u001b[A\u001b[A\u001b[A\n",
            "\n",
            "\n",
            " 74%|███████▎  | 44246/60000 [00:38<00:14, 1108.89it/s]\u001b[A\u001b[A\u001b[A\n",
            "\n",
            "\n",
            " 74%|███████▍  | 44358/60000 [00:38<00:14, 1110.89it/s]\u001b[A\u001b[A\u001b[A\n",
            "\n",
            "\n",
            " 74%|███████▍  | 44474/60000 [00:38<00:13, 1124.28it/s]\u001b[A\u001b[A\u001b[A\n",
            "\n",
            "\n",
            " 74%|███████▍  | 44592/60000 [00:39<00:13, 1137.94it/s]\u001b[A\u001b[A\u001b[A\n",
            "\n",
            "\n",
            " 75%|███████▍  | 44709/60000 [00:39<00:13, 1146.28it/s]\u001b[A\u001b[A\u001b[A\n",
            "\n",
            "\n",
            " 75%|███████▍  | 44824/60000 [00:39<00:13, 1138.77it/s]\u001b[A\u001b[A\u001b[A\n",
            "\n",
            "\n",
            " 75%|███████▍  | 44938/60000 [00:39<00:13, 1126.78it/s]\u001b[A\u001b[A\u001b[A\n",
            "\n",
            "\n",
            " 75%|███████▌  | 45053/60000 [00:39<00:13, 1131.72it/s]\u001b[A\u001b[A\u001b[A\n",
            "\n",
            "\n",
            " 75%|███████▌  | 45167/60000 [00:39<00:13, 1127.40it/s]\u001b[A\u001b[A\u001b[A\n",
            "\n",
            "\n",
            " 75%|███████▌  | 45282/60000 [00:39<00:12, 1133.64it/s]\u001b[A\u001b[A\u001b[A\n",
            "\n",
            "\n",
            " 76%|███████▌  | 45396/60000 [00:39<00:12, 1129.67it/s]\u001b[A\u001b[A\u001b[A\n",
            "\n",
            "\n",
            " 76%|███████▌  | 45512/60000 [00:39<00:12, 1137.98it/s]\u001b[A\u001b[A\u001b[A\n",
            "\n",
            "\n",
            " 76%|███████▌  | 45628/60000 [00:40<00:12, 1142.47it/s]\u001b[A\u001b[A\u001b[A\n",
            "\n",
            "\n",
            " 76%|███████▌  | 45743/60000 [00:40<00:12, 1136.84it/s]\u001b[A\u001b[A\u001b[A\n",
            "\n",
            "\n",
            " 76%|███████▋  | 45857/60000 [00:40<00:12, 1125.44it/s]\u001b[A\u001b[A\u001b[A\n",
            "\n",
            "\n",
            " 77%|███████▋  | 45970/60000 [00:40<00:12, 1123.38it/s]\u001b[A\u001b[A\u001b[A\n",
            "\n",
            "\n",
            " 77%|███████▋  | 46083/60000 [00:40<00:12, 1106.29it/s]\u001b[A\u001b[A\u001b[A\n",
            "\n",
            "\n",
            " 77%|███████▋  | 46197/60000 [00:40<00:12, 1114.73it/s]\u001b[A\u001b[A\u001b[A\n",
            "\n",
            "\n",
            " 77%|███████▋  | 46313/60000 [00:40<00:12, 1125.39it/s]\u001b[A\u001b[A\u001b[A\n",
            "\n",
            "\n",
            " 77%|███████▋  | 46430/60000 [00:40<00:11, 1137.72it/s]\u001b[A\u001b[A\u001b[A\n",
            "\n",
            "\n",
            " 78%|███████▊  | 46544/60000 [00:40<00:12, 1110.98it/s]\u001b[A\u001b[A\u001b[A\n",
            "\n",
            "\n",
            " 78%|███████▊  | 46656/60000 [00:40<00:12, 1107.47it/s]\u001b[A\u001b[A\u001b[A\n",
            "\n",
            "\n",
            " 78%|███████▊  | 46767/60000 [00:41<00:11, 1103.56it/s]\u001b[A\u001b[A\u001b[A\n",
            "\n",
            "\n",
            " 78%|███████▊  | 46884/60000 [00:41<00:11, 1121.29it/s]\u001b[A\u001b[A\u001b[A\n",
            "\n",
            "\n",
            " 78%|███████▊  | 47000/60000 [00:41<00:11, 1130.30it/s]\u001b[A\u001b[A\u001b[A\n",
            "\n",
            "\n",
            " 79%|███████▊  | 47114/60000 [00:41<00:11, 1132.94it/s]\u001b[A\u001b[A\u001b[A\n",
            "\n",
            "\n",
            " 79%|███████▊  | 47230/60000 [00:41<00:11, 1138.16it/s]\u001b[A\u001b[A\u001b[A\n",
            "\n",
            "\n",
            " 79%|███████▉  | 47345/60000 [00:41<00:11, 1139.74it/s]\u001b[A\u001b[A\u001b[A\n",
            "\n",
            "\n",
            " 79%|███████▉  | 47460/60000 [00:41<00:11, 1123.26it/s]\u001b[A\u001b[A\u001b[A\n",
            "\n",
            "\n",
            " 79%|███████▉  | 47576/60000 [00:41<00:10, 1132.19it/s]\u001b[A\u001b[A\u001b[A\n",
            "\n",
            "\n",
            " 79%|███████▉  | 47690/60000 [00:41<00:11, 1104.93it/s]\u001b[A\u001b[A\u001b[A\n",
            "\n",
            "\n",
            " 80%|███████▉  | 47801/60000 [00:41<00:11, 1102.61it/s]\u001b[A\u001b[A\u001b[A\n",
            "\n",
            "\n",
            " 80%|███████▉  | 47915/60000 [00:42<00:10, 1111.40it/s]\u001b[A\u001b[A\u001b[A\n",
            "\n",
            "\n",
            " 80%|████████  | 48029/60000 [00:42<00:10, 1117.51it/s]\u001b[A\u001b[A\u001b[A\n",
            "\n",
            "\n",
            " 80%|████████  | 48141/60000 [00:42<00:10, 1113.29it/s]\u001b[A\u001b[A\u001b[A\n",
            "\n",
            "\n",
            " 80%|████████  | 48253/60000 [00:42<00:10, 1115.04it/s]\u001b[A\u001b[A\u001b[A\n",
            "\n",
            "\n",
            " 81%|████████  | 48365/60000 [00:42<00:10, 1104.82it/s]\u001b[A\u001b[A\u001b[A\n",
            "\n",
            "\n",
            " 81%|████████  | 48476/60000 [00:42<00:10, 1096.05it/s]\u001b[A\u001b[A\u001b[A\n",
            "\n",
            "\n",
            " 81%|████████  | 48586/60000 [00:42<00:10, 1073.69it/s]\u001b[A\u001b[A\u001b[A\n",
            "\n",
            "\n",
            " 81%|████████  | 48699/60000 [00:42<00:10, 1087.44it/s]\u001b[A\u001b[A\u001b[A\n",
            "\n",
            "\n",
            " 81%|████████▏ | 48808/60000 [00:42<00:10, 1073.77it/s]\u001b[A\u001b[A\u001b[A\n",
            "\n",
            "\n",
            " 82%|████████▏ | 48943/60000 [00:42<00:09, 1142.40it/s]\u001b[A\u001b[A\u001b[A\n",
            "\n",
            "\n",
            " 82%|████████▏ | 49080/60000 [00:43<00:09, 1201.43it/s]\u001b[A\u001b[A\u001b[A\n",
            "\n",
            "\n",
            " 82%|████████▏ | 49213/60000 [00:43<00:08, 1236.87it/s]\u001b[A\u001b[A\u001b[A\n",
            "\n",
            "\n",
            " 82%|████████▏ | 49339/60000 [00:43<00:08, 1198.67it/s]\u001b[A\u001b[A\u001b[A\n",
            "\n",
            "\n",
            " 82%|████████▏ | 49461/60000 [00:43<00:08, 1177.76it/s]\u001b[A\u001b[A\u001b[A\n",
            "\n",
            "\n",
            " 83%|████████▎ | 49580/60000 [00:43<00:09, 1150.25it/s]\u001b[A\u001b[A\u001b[A\n",
            "\n",
            "\n",
            " 83%|████████▎ | 49696/60000 [00:43<00:09, 1141.23it/s]\u001b[A\u001b[A\u001b[A\n",
            "\n",
            "\n",
            " 83%|████████▎ | 49814/60000 [00:43<00:08, 1150.39it/s]\u001b[A\u001b[A\u001b[A\n",
            "\n",
            "\n",
            " 83%|████████▎ | 49930/60000 [00:43<00:08, 1122.05it/s]\u001b[A\u001b[A\u001b[A\n",
            "\n",
            "\n",
            " 83%|████████▎ | 50057/60000 [00:43<00:08, 1161.08it/s]\u001b[A\u001b[A\u001b[A\n",
            "\n",
            "\n",
            " 84%|████████▎ | 50178/60000 [00:44<00:08, 1173.38it/s]\u001b[A\u001b[A\u001b[A\n",
            "\n",
            "\n",
            " 84%|████████▍ | 50296/60000 [00:44<00:08, 1171.44it/s]\u001b[A\u001b[A\u001b[A\n",
            "\n",
            "\n",
            " 84%|████████▍ | 50414/60000 [00:44<00:08, 1173.96it/s]\u001b[A\u001b[A\u001b[A\n",
            "\n",
            "\n",
            " 84%|████████▍ | 50532/60000 [00:44<00:08, 1153.50it/s]\u001b[A\u001b[A\u001b[A\n",
            "\n",
            "\n",
            " 84%|████████▍ | 50648/60000 [00:44<00:08, 1142.26it/s]\u001b[A\u001b[A\u001b[A\n",
            "\n",
            "\n",
            " 85%|████████▍ | 50763/60000 [00:44<00:08, 1134.27it/s]\u001b[A\u001b[A\u001b[A\n",
            "\n",
            "\n",
            " 85%|████████▍ | 50877/60000 [00:44<00:08, 1126.67it/s]\u001b[A\u001b[A\u001b[A\n",
            "\n",
            "\n",
            " 85%|████████▍ | 50990/60000 [00:44<00:08, 1120.40it/s]\u001b[A\u001b[A\u001b[A\n",
            "\n",
            "\n",
            " 85%|████████▌ | 51103/60000 [00:44<00:08, 1090.76it/s]\u001b[A\u001b[A\u001b[A\n",
            "\n",
            "\n",
            " 85%|████████▌ | 51220/60000 [00:44<00:07, 1113.22it/s]\u001b[A\u001b[A\u001b[A\n",
            "\n",
            "\n",
            " 86%|████████▌ | 51354/60000 [00:45<00:07, 1171.94it/s]\u001b[A\u001b[A\u001b[A\n",
            "\n",
            "\n",
            " 86%|████████▌ | 51473/60000 [00:45<00:07, 1157.43it/s]\u001b[A\u001b[A\u001b[A\n",
            "\n",
            "\n",
            " 86%|████████▌ | 51602/60000 [00:45<00:07, 1193.91it/s]\u001b[A\u001b[A\u001b[A\n",
            "\n",
            "\n",
            " 86%|████████▌ | 51723/60000 [00:45<00:06, 1197.43it/s]\u001b[A\u001b[A\u001b[A\n",
            "\n",
            "\n",
            " 86%|████████▋ | 51853/60000 [00:45<00:06, 1225.80it/s]\u001b[A\u001b[A\u001b[A\n",
            "\n",
            "\n",
            " 87%|████████▋ | 51981/60000 [00:45<00:06, 1241.14it/s]\u001b[A\u001b[A\u001b[A\n",
            "\n",
            "\n",
            " 87%|████████▋ | 52106/60000 [00:45<00:06, 1242.92it/s]\u001b[A\u001b[A\u001b[A\n",
            "\n",
            "\n",
            " 87%|████████▋ | 52231/60000 [00:45<00:06, 1193.65it/s]\u001b[A\u001b[A\u001b[A\n",
            "\n",
            "\n",
            " 87%|████████▋ | 52352/60000 [00:45<00:06, 1167.44it/s]\u001b[A\u001b[A\u001b[A\n",
            "\n",
            "\n",
            " 87%|████████▋ | 52470/60000 [00:45<00:06, 1160.95it/s]\u001b[A\u001b[A\u001b[A\n",
            "\n",
            "\n",
            " 88%|████████▊ | 52587/60000 [00:46<00:06, 1140.97it/s]\u001b[A\u001b[A\u001b[A\n",
            "\n",
            "\n",
            " 88%|████████▊ | 52703/60000 [00:46<00:06, 1146.03it/s]\u001b[A\u001b[A\u001b[A\n",
            "\n",
            "\n",
            " 88%|████████▊ | 52818/60000 [00:46<00:06, 1126.60it/s]\u001b[A\u001b[A\u001b[A\n",
            "\n",
            "\n",
            " 88%|████████▊ | 52931/60000 [00:46<00:06, 1113.59it/s]\u001b[A\u001b[A\u001b[A\n",
            "\n",
            "\n",
            " 88%|████████▊ | 53044/60000 [00:46<00:06, 1117.61it/s]\u001b[A\u001b[A\u001b[A\n",
            "\n",
            "\n",
            " 89%|████████▊ | 53157/60000 [00:46<00:06, 1119.71it/s]\u001b[A\u001b[A\u001b[A\n",
            "\n",
            "\n",
            " 89%|████████▉ | 53274/60000 [00:46<00:05, 1133.26it/s]\u001b[A\u001b[A\u001b[A\n",
            "\n",
            "\n",
            " 89%|████████▉ | 53390/60000 [00:46<00:05, 1139.65it/s]\u001b[A\u001b[A\u001b[A\n",
            "\n",
            "\n",
            " 89%|████████▉ | 53505/60000 [00:46<00:05, 1136.90it/s]\u001b[A\u001b[A\u001b[A\n",
            "\n",
            "\n",
            " 89%|████████▉ | 53621/60000 [00:47<00:05, 1143.36it/s]\u001b[A\u001b[A\u001b[A\n",
            "\n",
            "\n",
            " 90%|████████▉ | 53736/60000 [00:47<00:05, 1093.42it/s]\u001b[A\u001b[A\u001b[A\n",
            "\n",
            "\n",
            " 90%|████████▉ | 53866/60000 [00:47<00:05, 1147.29it/s]\u001b[A\u001b[A\u001b[A\n",
            "\n",
            "\n",
            " 90%|████████▉ | 53990/60000 [00:47<00:05, 1170.99it/s]\u001b[A\u001b[A\u001b[A\n",
            "\n",
            "\n",
            " 90%|█████████ | 54112/60000 [00:47<00:04, 1182.55it/s]\u001b[A\u001b[A\u001b[A\n",
            "\n",
            "\n",
            " 90%|█████████ | 54234/60000 [00:47<00:04, 1192.28it/s]\u001b[A\u001b[A\u001b[A\n",
            "\n",
            "\n",
            " 91%|█████████ | 54354/60000 [00:47<00:04, 1193.89it/s]\u001b[A\u001b[A\u001b[A\n",
            "\n",
            "\n",
            " 91%|█████████ | 54476/60000 [00:47<00:04, 1200.52it/s]\u001b[A\u001b[A\u001b[A\n",
            "\n",
            "\n",
            " 91%|█████████ | 54597/60000 [00:47<00:04, 1198.96it/s]\u001b[A\u001b[A\u001b[A\n",
            "\n",
            "\n",
            " 91%|█████████ | 54718/60000 [00:47<00:04, 1156.50it/s]\u001b[A\u001b[A\u001b[A\n",
            "\n",
            "\n",
            " 91%|█████████▏| 54835/60000 [00:48<00:04, 1144.72it/s]\u001b[A\u001b[A\u001b[A\n",
            "\n",
            "\n",
            " 92%|█████████▏| 54954/60000 [00:48<00:04, 1155.60it/s]\u001b[A\u001b[A\u001b[A\n",
            "\n",
            "\n",
            " 92%|█████████▏| 55072/60000 [00:48<00:04, 1159.68it/s]\u001b[A\u001b[A\u001b[A\n",
            "\n",
            "\n",
            " 92%|█████████▏| 55189/60000 [00:48<00:04, 1132.21it/s]\u001b[A\u001b[A\u001b[A\n",
            "\n",
            "\n",
            " 92%|█████████▏| 55304/60000 [00:48<00:04, 1135.57it/s]\u001b[A\u001b[A\u001b[A\n",
            "\n",
            "\n",
            " 92%|█████████▏| 55419/60000 [00:48<00:04, 1138.49it/s]\u001b[A\u001b[A\u001b[A\n",
            "\n",
            "\n",
            " 93%|█████████▎| 55533/60000 [00:48<00:03, 1121.41it/s]\u001b[A\u001b[A\u001b[A\n",
            "\n",
            "\n",
            " 93%|█████████▎| 55648/60000 [00:48<00:03, 1128.39it/s]\u001b[A\u001b[A\u001b[A\n",
            "\n",
            "\n",
            " 93%|█████████▎| 55761/60000 [00:48<00:03, 1111.77it/s]\u001b[A\u001b[A\u001b[A\n",
            "\n",
            "\n",
            " 93%|█████████▎| 55873/60000 [00:48<00:03, 1099.11it/s]\u001b[A\u001b[A\u001b[A\n",
            "\n",
            "\n",
            " 93%|█████████▎| 55994/60000 [00:49<00:03, 1128.88it/s]\u001b[A\u001b[A\u001b[A\n",
            "\n",
            "\n",
            " 94%|█████████▎| 56111/60000 [00:49<00:03, 1140.80it/s]\u001b[A\u001b[A\u001b[A\n",
            "\n",
            "\n",
            " 94%|█████████▎| 56226/60000 [00:49<00:03, 1139.98it/s]\u001b[A\u001b[A\u001b[A\n",
            "\n",
            "\n",
            " 94%|█████████▍| 56341/60000 [00:49<00:03, 1138.33it/s]\u001b[A\u001b[A\u001b[A\n",
            "\n",
            "\n",
            " 94%|█████████▍| 56455/60000 [00:49<00:03, 1129.83it/s]\u001b[A\u001b[A\u001b[A\n",
            "\n",
            "\n",
            " 94%|█████████▍| 56570/60000 [00:49<00:03, 1134.08it/s]\u001b[A\u001b[A\u001b[A\n",
            "\n",
            "\n",
            " 94%|█████████▍| 56684/60000 [00:49<00:02, 1125.15it/s]\u001b[A\u001b[A\u001b[A\n",
            "\n",
            "\n",
            " 95%|█████████▍| 56800/60000 [00:49<00:02, 1133.29it/s]\u001b[A\u001b[A\u001b[A\n",
            "\n",
            "\n",
            " 95%|█████████▍| 56914/60000 [00:49<00:02, 1128.67it/s]\u001b[A\u001b[A\u001b[A\n",
            "\n",
            "\n",
            " 95%|█████████▌| 57028/60000 [00:49<00:02, 1129.74it/s]\u001b[A\u001b[A\u001b[A\n",
            "\n",
            "\n",
            " 95%|█████████▌| 57153/60000 [00:50<00:02, 1160.61it/s]\u001b[A\u001b[A\u001b[A\n",
            "\n",
            "\n",
            " 95%|█████████▌| 57270/60000 [00:50<00:02, 1132.61it/s]\u001b[A\u001b[A\u001b[A\n",
            "\n",
            "\n",
            " 96%|█████████▌| 57384/60000 [00:50<00:02, 1112.46it/s]\u001b[A\u001b[A\u001b[A\n",
            "\n",
            "\n",
            " 96%|█████████▌| 57496/60000 [00:50<00:02, 1099.75it/s]\u001b[A\u001b[A\u001b[A\n",
            "\n",
            "\n",
            " 96%|█████████▌| 57607/60000 [00:50<00:02, 1095.05it/s]\u001b[A\u001b[A\u001b[A\n",
            "\n",
            "\n",
            " 96%|█████████▌| 57719/60000 [00:50<00:02, 1101.36it/s]\u001b[A\u001b[A\u001b[A\n",
            "\n",
            "\n",
            " 96%|█████████▋| 57833/60000 [00:50<00:01, 1112.37it/s]\u001b[A\u001b[A\u001b[A\n",
            "\n",
            "\n",
            " 97%|█████████▋| 57945/60000 [00:50<00:01, 1114.47it/s]\u001b[A\u001b[A\u001b[A\n",
            "\n",
            "\n",
            " 97%|█████████▋| 58057/60000 [00:50<00:01, 1101.65it/s]\u001b[A\u001b[A\u001b[A\n",
            "\n",
            "\n",
            " 97%|█████████▋| 58170/60000 [00:51<00:01, 1108.22it/s]\u001b[A\u001b[A\u001b[A\n",
            "\n",
            "\n",
            " 97%|█████████▋| 58288/60000 [00:51<00:01, 1127.74it/s]\u001b[A\u001b[A\u001b[A\n",
            "\n",
            "\n",
            " 97%|█████████▋| 58403/60000 [00:51<00:01, 1132.54it/s]\u001b[A\u001b[A\u001b[A\n",
            "\n",
            "\n",
            " 98%|█████████▊| 58529/60000 [00:51<00:01, 1166.23it/s]\u001b[A\u001b[A\u001b[A\n",
            "\n",
            "\n",
            " 98%|█████████▊| 58646/60000 [00:51<00:01, 1166.99it/s]\u001b[A\u001b[A\u001b[A\n",
            "\n",
            "\n",
            " 98%|█████████▊| 58763/60000 [00:51<00:01, 1154.44it/s]\u001b[A\u001b[A\u001b[A\n",
            "\n",
            "\n",
            " 98%|█████████▊| 58879/60000 [00:51<00:00, 1141.75it/s]\u001b[A\u001b[A\u001b[A\n",
            "\n",
            "\n",
            " 98%|█████████▊| 58994/60000 [00:51<00:00, 1120.97it/s]\u001b[A\u001b[A\u001b[A\n",
            "\n",
            "\n",
            " 99%|█████████▊| 59126/60000 [00:51<00:00, 1173.12it/s]\u001b[A\u001b[A\u001b[A\n",
            "\n",
            "\n",
            " 99%|█████████▊| 59245/60000 [00:51<00:00, 1152.16it/s]\u001b[A\u001b[A\u001b[A\n",
            "\n",
            "\n",
            " 99%|█████████▉| 59362/60000 [00:52<00:00, 1156.63it/s]\u001b[A\u001b[A\u001b[A\n",
            "\n",
            "\n",
            " 99%|█████████▉| 59479/60000 [00:52<00:00, 1149.84it/s]\u001b[A\u001b[A\u001b[A\n",
            "\n",
            "\n",
            " 99%|█████████▉| 59595/60000 [00:52<00:00, 1134.00it/s]\u001b[A\u001b[A\u001b[A\n",
            "\n",
            "\n",
            "100%|█████████▉| 59710/60000 [00:52<00:00, 1138.69it/s]\u001b[A\u001b[A\u001b[A\n",
            "\n",
            "\n",
            "100%|█████████▉| 59825/60000 [00:52<00:00, 1138.12it/s]\u001b[A\u001b[A\u001b[A\n",
            "\n",
            "\n",
            "100%|█████████▉| 59939/60000 [00:52<00:00, 1119.87it/s]\u001b[A\u001b[A\u001b[A\n",
            "\n",
            "\n",
            "100%|██████████| 60000/60000 [00:52<00:00, 1140.43it/s]\u001b[A\u001b[A\u001b[A"
          ],
          "name": "stderr"
        }
      ]
    },
    {
      "cell_type": "code",
      "metadata": {
        "id": "ZlH2MzxL0Waa",
        "colab_type": "code",
        "outputId": "43c7dbe8-7c35-4ba9-89af-3b6c78d923d7",
        "colab": {
          "base_uri": "https://localhost:8080/",
          "height": 287
        }
      },
      "source": [
        "plt.plot(history)"
      ],
      "execution_count": 0,
      "outputs": [
        {
          "output_type": "execute_result",
          "data": {
            "text/plain": [
              "[<matplotlib.lines.Line2D at 0x7f88d0221400>]"
            ]
          },
          "metadata": {
            "tags": []
          },
          "execution_count": 43
        },
        {
          "output_type": "display_data",
          "data": {
            "image/png": "[encoded data removed]",
            "text/plain": [
              "<Figure size 432x288 with 1 Axes>"
            ]
          },
          "metadata": {
            "tags": []
          }
        }
      ]
    },
    {
      "cell_type": "markdown",
      "metadata": {
        "id": "Og2nQRY_zbXD",
        "colab_type": "text"
      },
      "source": [
        "## Building a Neural Network with Pytorch Abstractions"
      ]
    },
    {
      "cell_type": "code",
      "metadata": {
        "id": "ujc0zsOLzZwo",
        "colab_type": "code",
        "colab": {}
      },
      "source": [
        "from torch import nn\n",
        "from torch import optim\n",
        "from torch.utils.data import DataLoader, TensorDataset\n",
        "\n",
        "from tqdm import tqdm"
      ],
      "execution_count": 0,
      "outputs": []
    },
    {
      "cell_type": "code",
      "metadata": {
        "id": "3G3Yg-1bzwdA",
        "colab_type": "code",
        "colab": {}
      },
      "source": [
        "model = nn.Sequential(\n",
        "    nn.Linear(input_size, layer1_size),\n",
        "    nn.ReLU(),\n",
        "    nn.Linear(layer1_size, layer2_size),\n",
        "    nn.Softmax(dim=0)\n",
        ")\n",
        "model.cuda()\n",
        "\n",
        "cross_entropy = nn.CrossEntropyLoss()"
      ],
      "execution_count": 0,
      "outputs": []
    },
    {
      "cell_type": "code",
      "metadata": {
        "id": "15E2vfytA9vd",
        "colab_type": "code",
        "colab": {}
      },
      "source": [
        "learning_rate = 0.01\n",
        "opt = optim.SGD(model.parameters(), lr=learning_rate)"
      ],
      "execution_count": 0,
      "outputs": []
    },
    {
      "cell_type": "code",
      "metadata": {
        "id": "97BEN9dTBsCX",
        "colab_type": "code",
        "colab": {}
      },
      "source": [
        "new_dataset = TensorDataset(dataset.data.view(-1, 28 * 28).float(), dataset.targets)\n",
        "dataloader = DataLoader(new_dataset, batch_size= 512)"
      ],
      "execution_count": 0,
      "outputs": []
    },
    {
      "cell_type": "code",
      "metadata": {
        "id": "LJF5m1wYB-D0",
        "colab_type": "code",
        "outputId": "766c02f3-72d1-48f9-f311-15c422819a08",
        "colab": {
          "base_uri": "https://localhost:8080/",
          "height": 1000
        }
      },
      "source": [
        "iterations = 100\n",
        "history = []\n",
        "for epoch in tqdm(range(iterations)):\n",
        "    total_loss = 0\n",
        "    for x, y in dataloader:\n",
        "        predictions = model(x.cuda())\n",
        "        loss = cross_entropy(predictions, y.cuda())\n",
        "        total_loss += float(loss)\n",
        "\n",
        "        loss.backward()\n",
        "        opt.zero_grad()\n",
        "    \n",
        "        opt.step()\n",
        "    history.append(total_loss)"
      ],
      "execution_count": 0,
      "outputs": [
        {
          "output_type": "stream",
          "text": [
            "\n",
            "\n",
            "\n",
            "  0%|          | 0/100 [00:00<?, ?it/s]\u001b[A\u001b[A\u001b[A\n",
            "\n",
            "\n",
            "  1%|          | 1/100 [00:00<00:57,  1.71it/s]\u001b[A\u001b[A\u001b[A\n",
            "\n",
            "\n",
            "  2%|▏         | 2/100 [00:01<00:55,  1.77it/s]\u001b[A\u001b[A\u001b[A\n",
            "\n",
            "\n",
            "  3%|▎         | 3/100 [00:01<00:55,  1.76it/s]\u001b[A\u001b[A\u001b[A\n",
            "\n",
            "\n",
            "  4%|▍         | 4/100 [00:02<00:53,  1.80it/s]\u001b[A\u001b[A\u001b[A\n",
            "\n",
            "\n",
            "  5%|▌         | 5/100 [00:02<00:53,  1.78it/s]\u001b[A\u001b[A\u001b[A\n",
            "\n",
            "\n",
            "  6%|▌         | 6/100 [00:03<00:51,  1.81it/s]\u001b[A\u001b[A\u001b[A\n",
            "\n",
            "\n",
            "  7%|▋         | 7/100 [00:03<00:51,  1.79it/s]\u001b[A\u001b[A\u001b[A\n",
            "\n",
            "\n",
            "  8%|▊         | 8/100 [00:04<00:50,  1.83it/s]\u001b[A\u001b[A\u001b[A\n",
            "\n",
            "\n",
            "  9%|▉         | 9/100 [00:05<00:51,  1.78it/s]\u001b[A\u001b[A\u001b[A\n",
            "\n",
            "\n",
            " 10%|█         | 10/100 [00:05<00:49,  1.82it/s]\u001b[A\u001b[A\u001b[A\n",
            "\n",
            "\n",
            " 11%|█         | 11/100 [00:06<00:47,  1.87it/s]\u001b[A\u001b[A\u001b[A\n",
            "\n",
            "\n",
            " 12%|█▏        | 12/100 [00:06<00:48,  1.82it/s]\u001b[A\u001b[A\u001b[A\n",
            "\n",
            "\n",
            " 13%|█▎        | 13/100 [00:07<00:46,  1.85it/s]\u001b[A\u001b[A\u001b[A\n",
            "\n",
            "\n",
            " 14%|█▍        | 14/100 [00:07<00:45,  1.87it/s]\u001b[A\u001b[A\u001b[A\n",
            "\n",
            "\n",
            " 15%|█▌        | 15/100 [00:08<00:46,  1.82it/s]\u001b[A\u001b[A\u001b[A\n",
            "\n",
            "\n",
            " 16%|█▌        | 16/100 [00:08<00:45,  1.85it/s]\u001b[A\u001b[A\u001b[A\n",
            "\n",
            "\n",
            " 17%|█▋        | 17/100 [00:09<00:45,  1.82it/s]\u001b[A\u001b[A\u001b[A\n",
            "\n",
            "\n",
            " 18%|█▊        | 18/100 [00:09<00:44,  1.83it/s]\u001b[A\u001b[A\u001b[A\n",
            "\n",
            "\n",
            " 19%|█▉        | 19/100 [00:10<00:43,  1.85it/s]\u001b[A\u001b[A\u001b[A\n",
            "\n",
            "\n",
            " 20%|██        | 20/100 [00:10<00:44,  1.81it/s]\u001b[A\u001b[A\u001b[A\n",
            "\n",
            "\n",
            " 21%|██        | 21/100 [00:11<00:42,  1.85it/s]\u001b[A\u001b[A\u001b[A\n",
            "\n",
            "\n",
            " 22%|██▏       | 22/100 [00:12<00:42,  1.83it/s]\u001b[A\u001b[A\u001b[A\n",
            "\n",
            "\n",
            " 23%|██▎       | 23/100 [00:12<00:41,  1.84it/s]\u001b[A\u001b[A\u001b[A\n",
            "\n",
            "\n",
            " 24%|██▍       | 24/100 [00:13<00:41,  1.82it/s]\u001b[A\u001b[A\u001b[A\n",
            "\n",
            "\n",
            " 25%|██▌       | 25/100 [00:13<00:40,  1.84it/s]\u001b[A\u001b[A\u001b[A\n",
            "\n",
            "\n",
            " 26%|██▌       | 26/100 [00:14<00:40,  1.83it/s]\u001b[A\u001b[A\u001b[A\n",
            "\n",
            "\n",
            " 27%|██▋       | 27/100 [00:14<00:39,  1.86it/s]\u001b[A\u001b[A\u001b[A\n",
            "\n",
            "\n",
            " 28%|██▊       | 28/100 [00:15<00:39,  1.84it/s]\u001b[A\u001b[A\u001b[A\n",
            "\n",
            "\n",
            " 29%|██▉       | 29/100 [00:15<00:38,  1.85it/s]\u001b[A\u001b[A\u001b[A\n",
            "\n",
            "\n",
            " 30%|███       | 30/100 [00:16<00:38,  1.84it/s]\u001b[A\u001b[A\u001b[A\n",
            "\n",
            "\n",
            " 31%|███       | 31/100 [00:16<00:37,  1.82it/s]\u001b[A\u001b[A\u001b[A\n",
            "\n",
            "\n",
            " 32%|███▏      | 32/100 [00:17<00:37,  1.83it/s]\u001b[A\u001b[A\u001b[A\n",
            "\n",
            "\n",
            " 33%|███▎      | 33/100 [00:18<00:37,  1.80it/s]\u001b[A\u001b[A\u001b[A\n",
            "\n",
            "\n",
            " 34%|███▍      | 34/100 [00:18<00:36,  1.82it/s]\u001b[A\u001b[A\u001b[A\n",
            "\n",
            "\n",
            " 35%|███▌      | 35/100 [00:19<00:35,  1.85it/s]\u001b[A\u001b[A\u001b[A\n",
            "\n",
            "\n",
            " 36%|███▌      | 36/100 [00:19<00:35,  1.82it/s]\u001b[A\u001b[A\u001b[A\n",
            "\n",
            "\n",
            " 37%|███▋      | 37/100 [00:20<00:34,  1.80it/s]\u001b[A\u001b[A\u001b[A\n",
            "\n",
            "\n",
            " 38%|███▊      | 38/100 [00:20<00:33,  1.84it/s]\u001b[A\u001b[A\u001b[A\n",
            "\n",
            "\n",
            " 39%|███▉      | 39/100 [00:21<00:33,  1.82it/s]\u001b[A\u001b[A\u001b[A\n",
            "\n",
            "\n",
            " 40%|████      | 40/100 [00:21<00:32,  1.85it/s]\u001b[A\u001b[A\u001b[A\n",
            "\n",
            "\n",
            " 41%|████      | 41/100 [00:22<00:32,  1.82it/s]\u001b[A\u001b[A\u001b[A\n",
            "\n",
            "\n",
            " 42%|████▏     | 42/100 [00:22<00:31,  1.83it/s]\u001b[A\u001b[A\u001b[A\n",
            "\n",
            "\n",
            " 43%|████▎     | 43/100 [00:23<00:31,  1.79it/s]\u001b[A\u001b[A\u001b[A\n",
            "\n",
            "\n",
            " 44%|████▍     | 44/100 [00:24<00:31,  1.80it/s]\u001b[A\u001b[A\u001b[A\n",
            "\n",
            "\n",
            " 45%|████▌     | 45/100 [00:24<00:30,  1.83it/s]\u001b[A\u001b[A\u001b[A\n",
            "\n",
            "\n",
            " 46%|████▌     | 46/100 [00:25<00:29,  1.81it/s]\u001b[A\u001b[A\u001b[A\n",
            "\n",
            "\n",
            " 47%|████▋     | 47/100 [00:25<00:29,  1.78it/s]\u001b[A\u001b[A\u001b[A\n",
            "\n",
            "\n",
            " 48%|████▊     | 48/100 [00:26<00:28,  1.83it/s]\u001b[A\u001b[A\u001b[A\n",
            "\n",
            "\n",
            " 49%|████▉     | 49/100 [00:26<00:28,  1.81it/s]\u001b[A\u001b[A\u001b[A\n",
            "\n",
            "\n",
            " 50%|█████     | 50/100 [00:27<00:27,  1.85it/s]\u001b[A\u001b[A\u001b[A\n",
            "\n",
            "\n",
            " 51%|█████     | 51/100 [00:27<00:26,  1.86it/s]\u001b[A\u001b[A\u001b[A\n",
            "\n",
            "\n",
            " 52%|█████▏    | 52/100 [00:28<00:26,  1.83it/s]\u001b[A\u001b[A\u001b[A\n",
            "\n",
            "\n",
            " 53%|█████▎    | 53/100 [00:29<00:26,  1.80it/s]\u001b[A\u001b[A\u001b[A\n",
            "\n",
            "\n",
            " 54%|█████▍    | 54/100 [00:29<00:25,  1.83it/s]\u001b[A\u001b[A\u001b[A\n",
            "\n",
            "\n",
            " 55%|█████▌    | 55/100 [00:30<00:24,  1.80it/s]\u001b[A\u001b[A\u001b[A\n",
            "\n",
            "\n",
            " 56%|█████▌    | 56/100 [00:30<00:24,  1.83it/s]\u001b[A\u001b[A\u001b[A\n",
            "\n",
            "\n",
            " 57%|█████▋    | 57/100 [00:31<00:23,  1.80it/s]\u001b[A\u001b[A\u001b[A\n",
            "\n",
            "\n",
            " 58%|█████▊    | 58/100 [00:31<00:22,  1.83it/s]\u001b[A\u001b[A\u001b[A\n",
            "\n",
            "\n",
            " 59%|█████▉    | 59/100 [00:32<00:22,  1.81it/s]\u001b[A\u001b[A\u001b[A\n",
            "\n",
            "\n",
            " 60%|██████    | 60/100 [00:32<00:21,  1.84it/s]\u001b[A\u001b[A\u001b[A\n",
            "\n",
            "\n",
            " 61%|██████    | 61/100 [00:33<00:21,  1.82it/s]\u001b[A\u001b[A\u001b[A\n",
            "\n",
            "\n",
            " 62%|██████▏   | 62/100 [00:33<00:20,  1.84it/s]\u001b[A\u001b[A\u001b[A\n",
            "\n",
            "\n",
            " 63%|██████▎   | 63/100 [00:34<00:19,  1.86it/s]\u001b[A\u001b[A\u001b[A\n",
            "\n",
            "\n",
            " 64%|██████▍   | 64/100 [00:35<00:19,  1.81it/s]\u001b[A\u001b[A\u001b[A\n",
            "\n",
            "\n",
            " 65%|██████▌   | 65/100 [00:35<00:18,  1.85it/s]\u001b[A\u001b[A\u001b[A\n",
            "\n",
            "\n",
            " 66%|██████▌   | 66/100 [00:36<00:18,  1.85it/s]\u001b[A\u001b[A\u001b[A\n",
            "\n",
            "\n",
            " 67%|██████▋   | 67/100 [00:36<00:18,  1.83it/s]\u001b[A\u001b[A\u001b[A\n",
            "\n",
            "\n",
            " 68%|██████▊   | 68/100 [00:37<00:17,  1.86it/s]\u001b[A\u001b[A\u001b[A\n",
            "\n",
            "\n",
            " 69%|██████▉   | 69/100 [00:37<00:16,  1.84it/s]\u001b[A\u001b[A\u001b[A\n",
            "\n",
            "\n",
            " 70%|███████   | 70/100 [00:38<00:16,  1.86it/s]\u001b[A\u001b[A\u001b[A\n",
            "\n",
            "\n",
            " 71%|███████   | 71/100 [00:38<00:15,  1.87it/s]\u001b[A\u001b[A\u001b[A\n",
            "\n",
            "\n",
            " 72%|███████▏  | 72/100 [00:39<00:15,  1.84it/s]\u001b[A\u001b[A\u001b[A\n",
            "\n",
            "\n",
            " 73%|███████▎  | 73/100 [00:39<00:14,  1.87it/s]\u001b[A\u001b[A\u001b[A\n",
            "\n",
            "\n",
            " 74%|███████▍  | 74/100 [00:40<00:14,  1.82it/s]\u001b[A\u001b[A\u001b[A\n",
            "\n",
            "\n",
            " 75%|███████▌  | 75/100 [00:40<00:13,  1.85it/s]\u001b[A\u001b[A\u001b[A\n",
            "\n",
            "\n",
            " 76%|███████▌  | 76/100 [00:41<00:12,  1.88it/s]\u001b[A\u001b[A\u001b[A\n",
            "\n",
            "\n",
            " 77%|███████▋  | 77/100 [00:42<00:12,  1.85it/s]\u001b[A\u001b[A\u001b[A\n",
            "\n",
            "\n",
            " 78%|███████▊  | 78/100 [00:42<00:12,  1.81it/s]\u001b[A\u001b[A\u001b[A\n",
            "\n",
            "\n",
            " 79%|███████▉  | 79/100 [00:43<00:11,  1.83it/s]\u001b[A\u001b[A\u001b[A\n",
            "\n",
            "\n",
            " 80%|████████  | 80/100 [00:43<00:11,  1.81it/s]\u001b[A\u001b[A\u001b[A\n",
            "\n",
            "\n",
            " 81%|████████  | 81/100 [00:44<00:10,  1.83it/s]\u001b[A\u001b[A\u001b[A\n",
            "\n",
            "\n",
            " 82%|████████▏ | 82/100 [00:44<00:09,  1.80it/s]\u001b[A\u001b[A\u001b[A\n",
            "\n",
            "\n",
            " 83%|████████▎ | 83/100 [00:45<00:09,  1.83it/s]\u001b[A\u001b[A\u001b[A\n",
            "\n",
            "\n",
            " 84%|████████▍ | 84/100 [00:45<00:08,  1.81it/s]\u001b[A\u001b[A\u001b[A\n",
            "\n",
            "\n",
            " 85%|████████▌ | 85/100 [00:46<00:08,  1.78it/s]\u001b[A\u001b[A\u001b[A\n",
            "\n",
            "\n",
            " 86%|████████▌ | 86/100 [00:47<00:07,  1.81it/s]\u001b[A\u001b[A\u001b[A\n",
            "\n",
            "\n",
            " 87%|████████▋ | 87/100 [00:47<00:07,  1.80it/s]\u001b[A\u001b[A\u001b[A\n",
            "\n",
            "\n",
            " 88%|████████▊ | 88/100 [00:48<00:06,  1.84it/s]\u001b[A\u001b[A\u001b[A\n",
            "\n",
            "\n",
            " 89%|████████▉ | 89/100 [00:48<00:06,  1.81it/s]\u001b[A\u001b[A\u001b[A\n",
            "\n",
            "\n",
            " 90%|█████████ | 90/100 [00:49<00:05,  1.84it/s]\u001b[A\u001b[A\u001b[A\n",
            "\n",
            "\n",
            " 91%|█████████ | 91/100 [00:49<00:04,  1.86it/s]\u001b[A\u001b[A\u001b[A\n",
            "\n",
            "\n",
            " 92%|█████████▏| 92/100 [00:50<00:04,  1.82it/s]\u001b[A\u001b[A\u001b[A\n",
            "\n",
            "\n",
            " 93%|█████████▎| 93/100 [00:50<00:03,  1.80it/s]\u001b[A\u001b[A\u001b[A\n",
            "\n",
            "\n",
            " 94%|█████████▍| 94/100 [00:51<00:03,  1.83it/s]\u001b[A\u001b[A\u001b[A\n",
            "\n",
            "\n",
            " 95%|█████████▌| 95/100 [00:51<00:02,  1.85it/s]\u001b[A\u001b[A\u001b[A\n",
            "\n",
            "\n",
            " 96%|█████████▌| 96/100 [00:52<00:02,  1.80it/s]\u001b[A\u001b[A\u001b[A\n",
            "\n",
            "\n",
            " 97%|█████████▋| 97/100 [00:53<00:01,  1.82it/s]\u001b[A\u001b[A\u001b[A\n",
            "\n",
            "\n",
            " 98%|█████████▊| 98/100 [00:53<00:01,  1.84it/s]\u001b[A\u001b[A\u001b[A\n",
            "\n",
            "\n",
            " 99%|█████████▉| 99/100 [00:54<00:00,  1.79it/s]\u001b[A\u001b[A\u001b[A\n",
            "\n",
            "\n",
            "100%|██████████| 100/100 [00:54<00:00,  1.81it/s]\u001b[A\u001b[A\u001b[A\n",
            "\n",
            "\n",
            "\u001b[A\u001b[A\u001b[A"
          ],
          "name": "stderr"
        }
      ]
    },
    {
      "cell_type": "code",
      "metadata": {
        "id": "W0Ys5pefGhw3",
        "colab_type": "code",
        "outputId": "cf0efbee-70fb-4990-a77a-bf097c20e220",
        "colab": {
          "base_uri": "https://localhost:8080/",
          "height": 287
        }
      },
      "source": [
        "plt.plot(history)"
      ],
      "execution_count": 0,
      "outputs": [
        {
          "output_type": "execute_result",
          "data": {
            "text/plain": [
              "[<matplotlib.lines.Line2D at 0x7f88d8087828>]"
            ]
          },
          "metadata": {
            "tags": []
          },
          "execution_count": 49
        },
        {
          "output_type": "display_data",
          "data": {
            "image/png": "[encoded data removed]",
            "text/plain": [
              "<Figure size 432x288 with 1 Axes>"
            ]
          },
          "metadata": {
            "tags": []
          }
        }
      ]
    },
    {
      "cell_type": "code",
      "metadata": {
        "id": "OMjUxfgaYT7U",
        "colab_type": "code",
        "colab": {}
      },
      "source": [
        ""
      ],
      "execution_count": 0,
      "outputs": []
    }
  ]
}